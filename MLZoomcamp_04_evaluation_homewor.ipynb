{
  "nbformat": 4,
  "nbformat_minor": 0,
  "metadata": {
    "colab": {
      "provenance": [],
      "authorship_tag": "ABX9TyO7/ZzsRV27yS2hT1G7mIyB",
      "include_colab_link": true
    },
    "kernelspec": {
      "name": "python3",
      "display_name": "Python 3"
    },
    "language_info": {
      "name": "python"
    }
  },
  "cells": [
    {
      "cell_type": "markdown",
      "metadata": {
        "id": "view-in-github",
        "colab_type": "text"
      },
      "source": [
        "<a href=\"https://colab.research.google.com/github/plaban1981/MLZoomCamp2022/blob/main/MLZoomcamp_04_evaluation_homewor.ipynb\" target=\"_parent\"><img src=\"https://colab.research.google.com/assets/colab-badge.svg\" alt=\"Open In Colab\"/></a>"
      ]
    },
    {
      "cell_type": "markdown",
      "source": [
        "## Load Dataset - Credit Card Data from book \"Econometric Analysis\"."
      ],
      "metadata": {
        "id": "aJ_wEPyL9dSh"
      }
    },
    {
      "cell_type": "code",
      "execution_count": 1,
      "metadata": {
        "colab": {
          "base_uri": "https://localhost:8080/"
        },
        "id": "JryNICSs9UWB",
        "outputId": "4da93473-62c4-4980-8938-9c61b3948560"
      },
      "outputs": [
        {
          "output_type": "stream",
          "name": "stdout",
          "text": [
            "--2022-10-02 11:07:17--  https://raw.githubusercontent.com/alexeygrigorev/datasets/master/AER_credit_card_data.csv\n",
            "Resolving raw.githubusercontent.com (raw.githubusercontent.com)... 185.199.111.133, 185.199.110.133, 185.199.108.133, ...\n",
            "Connecting to raw.githubusercontent.com (raw.githubusercontent.com)|185.199.111.133|:443... connected.\n",
            "HTTP request sent, awaiting response... 200 OK\n",
            "Length: 73250 (72K) [text/plain]\n",
            "Saving to: ‘AER_credit_card_data.csv’\n",
            "\n",
            "AER_credit_card_dat 100%[===================>]  71.53K  --.-KB/s    in 0.01s   \n",
            "\n",
            "2022-10-02 11:07:17 (5.72 MB/s) - ‘AER_credit_card_data.csv’ saved [73250/73250]\n",
            "\n"
          ]
        }
      ],
      "source": [
        "!wget https://raw.githubusercontent.com/alexeygrigorev/datasets/master/AER_credit_card_data.csv"
      ]
    },
    {
      "cell_type": "markdown",
      "source": [
        "## Objective\n",
        "The goal of this homework is to inspect the output of different evaluation metrics by creating a classification model **(target column card)**."
      ],
      "metadata": {
        "id": "ThDRDTNo9may"
      }
    },
    {
      "cell_type": "markdown",
      "source": [
        "## Load Data"
      ],
      "metadata": {
        "id": "5HGoR7wi9yKl"
      }
    },
    {
      "cell_type": "code",
      "source": [
        "import pandas as pd\n",
        "import numpy as np\n",
        "import matplotlib.pyplot as plt\n",
        "import seaborn as sns\n",
        "%matplotlib inline"
      ],
      "metadata": {
        "id": "uSq1hTSY9nx7"
      },
      "execution_count": 2,
      "outputs": []
    },
    {
      "cell_type": "code",
      "source": [
        "cc_data = pd.read_csv(\"/content/AER_credit_card_data.csv\")\n",
        "cc_data.head()"
      ],
      "metadata": {
        "colab": {
          "base_uri": "https://localhost:8080/",
          "height": 206
        },
        "id": "qmVtCXrA-MIQ",
        "outputId": "a5e7f3cb-3c10-411f-ae1d-d53f1e5ce0d0"
      },
      "execution_count": 56,
      "outputs": [
        {
          "output_type": "execute_result",
          "data": {
            "text/plain": [
              "  card  reports       age  income     share  expenditure owner selfemp  \\\n",
              "0  yes        0  37.66667  4.5200  0.033270   124.983300   yes      no   \n",
              "1  yes        0  33.25000  2.4200  0.005217     9.854167    no      no   \n",
              "2  yes        0  33.66667  4.5000  0.004156    15.000000   yes      no   \n",
              "3  yes        0  30.50000  2.5400  0.065214   137.869200    no      no   \n",
              "4  yes        0  32.16667  9.7867  0.067051   546.503300   yes      no   \n",
              "\n",
              "   dependents  months  majorcards  active  \n",
              "0           3      54           1      12  \n",
              "1           3      34           1      13  \n",
              "2           4      58           1       5  \n",
              "3           0      25           1       7  \n",
              "4           2      64           1       5  "
            ],
            "text/html": [
              "\n",
              "  <div id=\"df-d7459c20-174c-42cf-9adb-13bc1b3143d9\">\n",
              "    <div class=\"colab-df-container\">\n",
              "      <div>\n",
              "<style scoped>\n",
              "    .dataframe tbody tr th:only-of-type {\n",
              "        vertical-align: middle;\n",
              "    }\n",
              "\n",
              "    .dataframe tbody tr th {\n",
              "        vertical-align: top;\n",
              "    }\n",
              "\n",
              "    .dataframe thead th {\n",
              "        text-align: right;\n",
              "    }\n",
              "</style>\n",
              "<table border=\"1\" class=\"dataframe\">\n",
              "  <thead>\n",
              "    <tr style=\"text-align: right;\">\n",
              "      <th></th>\n",
              "      <th>card</th>\n",
              "      <th>reports</th>\n",
              "      <th>age</th>\n",
              "      <th>income</th>\n",
              "      <th>share</th>\n",
              "      <th>expenditure</th>\n",
              "      <th>owner</th>\n",
              "      <th>selfemp</th>\n",
              "      <th>dependents</th>\n",
              "      <th>months</th>\n",
              "      <th>majorcards</th>\n",
              "      <th>active</th>\n",
              "    </tr>\n",
              "  </thead>\n",
              "  <tbody>\n",
              "    <tr>\n",
              "      <th>0</th>\n",
              "      <td>yes</td>\n",
              "      <td>0</td>\n",
              "      <td>37.66667</td>\n",
              "      <td>4.5200</td>\n",
              "      <td>0.033270</td>\n",
              "      <td>124.983300</td>\n",
              "      <td>yes</td>\n",
              "      <td>no</td>\n",
              "      <td>3</td>\n",
              "      <td>54</td>\n",
              "      <td>1</td>\n",
              "      <td>12</td>\n",
              "    </tr>\n",
              "    <tr>\n",
              "      <th>1</th>\n",
              "      <td>yes</td>\n",
              "      <td>0</td>\n",
              "      <td>33.25000</td>\n",
              "      <td>2.4200</td>\n",
              "      <td>0.005217</td>\n",
              "      <td>9.854167</td>\n",
              "      <td>no</td>\n",
              "      <td>no</td>\n",
              "      <td>3</td>\n",
              "      <td>34</td>\n",
              "      <td>1</td>\n",
              "      <td>13</td>\n",
              "    </tr>\n",
              "    <tr>\n",
              "      <th>2</th>\n",
              "      <td>yes</td>\n",
              "      <td>0</td>\n",
              "      <td>33.66667</td>\n",
              "      <td>4.5000</td>\n",
              "      <td>0.004156</td>\n",
              "      <td>15.000000</td>\n",
              "      <td>yes</td>\n",
              "      <td>no</td>\n",
              "      <td>4</td>\n",
              "      <td>58</td>\n",
              "      <td>1</td>\n",
              "      <td>5</td>\n",
              "    </tr>\n",
              "    <tr>\n",
              "      <th>3</th>\n",
              "      <td>yes</td>\n",
              "      <td>0</td>\n",
              "      <td>30.50000</td>\n",
              "      <td>2.5400</td>\n",
              "      <td>0.065214</td>\n",
              "      <td>137.869200</td>\n",
              "      <td>no</td>\n",
              "      <td>no</td>\n",
              "      <td>0</td>\n",
              "      <td>25</td>\n",
              "      <td>1</td>\n",
              "      <td>7</td>\n",
              "    </tr>\n",
              "    <tr>\n",
              "      <th>4</th>\n",
              "      <td>yes</td>\n",
              "      <td>0</td>\n",
              "      <td>32.16667</td>\n",
              "      <td>9.7867</td>\n",
              "      <td>0.067051</td>\n",
              "      <td>546.503300</td>\n",
              "      <td>yes</td>\n",
              "      <td>no</td>\n",
              "      <td>2</td>\n",
              "      <td>64</td>\n",
              "      <td>1</td>\n",
              "      <td>5</td>\n",
              "    </tr>\n",
              "  </tbody>\n",
              "</table>\n",
              "</div>\n",
              "      <button class=\"colab-df-convert\" onclick=\"convertToInteractive('df-d7459c20-174c-42cf-9adb-13bc1b3143d9')\"\n",
              "              title=\"Convert this dataframe to an interactive table.\"\n",
              "              style=\"display:none;\">\n",
              "        \n",
              "  <svg xmlns=\"http://www.w3.org/2000/svg\" height=\"24px\"viewBox=\"0 0 24 24\"\n",
              "       width=\"24px\">\n",
              "    <path d=\"M0 0h24v24H0V0z\" fill=\"none\"/>\n",
              "    <path d=\"M18.56 5.44l.94 2.06.94-2.06 2.06-.94-2.06-.94-.94-2.06-.94 2.06-2.06.94zm-11 1L8.5 8.5l.94-2.06 2.06-.94-2.06-.94L8.5 2.5l-.94 2.06-2.06.94zm10 10l.94 2.06.94-2.06 2.06-.94-2.06-.94-.94-2.06-.94 2.06-2.06.94z\"/><path d=\"M17.41 7.96l-1.37-1.37c-.4-.4-.92-.59-1.43-.59-.52 0-1.04.2-1.43.59L10.3 9.45l-7.72 7.72c-.78.78-.78 2.05 0 2.83L4 21.41c.39.39.9.59 1.41.59.51 0 1.02-.2 1.41-.59l7.78-7.78 2.81-2.81c.8-.78.8-2.07 0-2.86zM5.41 20L4 18.59l7.72-7.72 1.47 1.35L5.41 20z\"/>\n",
              "  </svg>\n",
              "      </button>\n",
              "      \n",
              "  <style>\n",
              "    .colab-df-container {\n",
              "      display:flex;\n",
              "      flex-wrap:wrap;\n",
              "      gap: 12px;\n",
              "    }\n",
              "\n",
              "    .colab-df-convert {\n",
              "      background-color: #E8F0FE;\n",
              "      border: none;\n",
              "      border-radius: 50%;\n",
              "      cursor: pointer;\n",
              "      display: none;\n",
              "      fill: #1967D2;\n",
              "      height: 32px;\n",
              "      padding: 0 0 0 0;\n",
              "      width: 32px;\n",
              "    }\n",
              "\n",
              "    .colab-df-convert:hover {\n",
              "      background-color: #E2EBFA;\n",
              "      box-shadow: 0px 1px 2px rgba(60, 64, 67, 0.3), 0px 1px 3px 1px rgba(60, 64, 67, 0.15);\n",
              "      fill: #174EA6;\n",
              "    }\n",
              "\n",
              "    [theme=dark] .colab-df-convert {\n",
              "      background-color: #3B4455;\n",
              "      fill: #D2E3FC;\n",
              "    }\n",
              "\n",
              "    [theme=dark] .colab-df-convert:hover {\n",
              "      background-color: #434B5C;\n",
              "      box-shadow: 0px 1px 3px 1px rgba(0, 0, 0, 0.15);\n",
              "      filter: drop-shadow(0px 1px 2px rgba(0, 0, 0, 0.3));\n",
              "      fill: #FFFFFF;\n",
              "    }\n",
              "  </style>\n",
              "\n",
              "      <script>\n",
              "        const buttonEl =\n",
              "          document.querySelector('#df-d7459c20-174c-42cf-9adb-13bc1b3143d9 button.colab-df-convert');\n",
              "        buttonEl.style.display =\n",
              "          google.colab.kernel.accessAllowed ? 'block' : 'none';\n",
              "\n",
              "        async function convertToInteractive(key) {\n",
              "          const element = document.querySelector('#df-d7459c20-174c-42cf-9adb-13bc1b3143d9');\n",
              "          const dataTable =\n",
              "            await google.colab.kernel.invokeFunction('convertToInteractive',\n",
              "                                                     [key], {});\n",
              "          if (!dataTable) return;\n",
              "\n",
              "          const docLinkHtml = 'Like what you see? Visit the ' +\n",
              "            '<a target=\"_blank\" href=https://colab.research.google.com/notebooks/data_table.ipynb>data table notebook</a>'\n",
              "            + ' to learn more about interactive tables.';\n",
              "          element.innerHTML = '';\n",
              "          dataTable['output_type'] = 'display_data';\n",
              "          await google.colab.output.renderOutput(dataTable, element);\n",
              "          const docLink = document.createElement('div');\n",
              "          docLink.innerHTML = docLinkHtml;\n",
              "          element.appendChild(docLink);\n",
              "        }\n",
              "      </script>\n",
              "    </div>\n",
              "  </div>\n",
              "  "
            ]
          },
          "metadata": {},
          "execution_count": 56
        }
      ]
    },
    {
      "cell_type": "markdown",
      "source": [
        "#### Check for missing values"
      ],
      "metadata": {
        "id": "4HoNg0Oi_axx"
      }
    },
    {
      "cell_type": "code",
      "source": [
        "cc_data.isnull().sum()[cc_data.isnull().sum() > 0]"
      ],
      "metadata": {
        "colab": {
          "base_uri": "https://localhost:8080/"
        },
        "id": "SviSo3gn_TOy",
        "outputId": "1325d7e5-1085-47ef-9f16-fd48fccd13ca"
      },
      "execution_count": 57,
      "outputs": [
        {
          "output_type": "execute_result",
          "data": {
            "text/plain": [
              "Series([], dtype: int64)"
            ]
          },
          "metadata": {},
          "execution_count": 57
        }
      ]
    },
    {
      "cell_type": "code",
      "source": [
        "cat_cols = ['owner','selfemp']\n",
        "num_cols =  [col for col in cc_data.columns if cc_data[col].dtypes != 'object']"
      ],
      "metadata": {
        "id": "QoE6X9nymMu0"
      },
      "execution_count": 61,
      "outputs": []
    },
    {
      "cell_type": "code",
      "source": [
        "num_cols"
      ],
      "metadata": {
        "colab": {
          "base_uri": "https://localhost:8080/"
        },
        "id": "vhemcE7hsOp5",
        "outputId": "342110ea-ad67-4324-cf5f-806d7fe84b1a"
      },
      "execution_count": 62,
      "outputs": [
        {
          "output_type": "execute_result",
          "data": {
            "text/plain": [
              "['reports',\n",
              " 'age',\n",
              " 'income',\n",
              " 'share',\n",
              " 'expenditure',\n",
              " 'dependents',\n",
              " 'months',\n",
              " 'majorcards',\n",
              " 'active']"
            ]
          },
          "metadata": {},
          "execution_count": 62
        }
      ]
    },
    {
      "cell_type": "code",
      "source": [
        "cc_data['card'].unique()"
      ],
      "metadata": {
        "colab": {
          "base_uri": "https://localhost:8080/"
        },
        "id": "vP9y271nsUo6",
        "outputId": "25d36746-6a0d-4e2b-a078-32c6d6bb4be5"
      },
      "execution_count": 63,
      "outputs": [
        {
          "output_type": "execute_result",
          "data": {
            "text/plain": [
              "array(['yes', 'no'], dtype=object)"
            ]
          },
          "metadata": {},
          "execution_count": 63
        }
      ]
    },
    {
      "cell_type": "markdown",
      "source": [
        "## Preparation\n",
        "\n",
        "* Create the target variable by mapping yes to 1 and no to 0.\n",
        "* Split the dataset into 3 parts: \n",
        "    - train/validation/test with 60%/20%/20% distribution. \n",
        "    - Use train_test_split funciton for that with random_state=1."
      ],
      "metadata": {
        "id": "dtqon0PO_EtC"
      }
    },
    {
      "cell_type": "code",
      "source": [
        "label_map = {'no':0,'yes':1}"
      ],
      "metadata": {
        "id": "n-99zY2E-hR5"
      },
      "execution_count": 64,
      "outputs": []
    },
    {
      "cell_type": "code",
      "source": [
        "sns.countplot(x='card',data=cc_data)\n",
        "plt.show()"
      ],
      "metadata": {
        "colab": {
          "base_uri": "https://localhost:8080/",
          "height": 279
        },
        "id": "2o44mEBS_lht",
        "outputId": "37283109-76cb-41e7-cdc3-d34a6ab7b19d"
      },
      "execution_count": 65,
      "outputs": [
        {
          "output_type": "display_data",
          "data": {
            "text/plain": [
              "<Figure size 432x288 with 1 Axes>"
            ],
            "image/png": "[encoded data removed]"
          },
          "metadata": {
            "needs_background": "light"
          }
        }
      ]
    },
    {
      "cell_type": "code",
      "source": [
        "cc_data['card'] = cc_data['card'].map(label_map)\n",
        "cc_data['owner'] = cc_data['owner'].map(label_map)\n",
        "cc_data['selfemp'] = cc_data['selfemp'].map(label_map)"
      ],
      "metadata": {
        "id": "i1Zol2iW_5_K"
      },
      "execution_count": 66,
      "outputs": []
    },
    {
      "cell_type": "code",
      "source": [
        "cc_data.head()"
      ],
      "metadata": {
        "colab": {
          "base_uri": "https://localhost:8080/",
          "height": 206
        },
        "id": "Kobb3n9kYyD2",
        "outputId": "06c6b09a-4295-42c0-de25-5c34a4eac148"
      },
      "execution_count": 130,
      "outputs": [
        {
          "output_type": "execute_result",
          "data": {
            "text/plain": [
              "   card  reports       age  income     share  expenditure  owner  selfemp  \\\n",
              "0     1        0  37.66667  4.5200  0.033270   124.983300      1        0   \n",
              "1     1        0  33.25000  2.4200  0.005217     9.854167      0        0   \n",
              "2     1        0  33.66667  4.5000  0.004156    15.000000      1        0   \n",
              "3     1        0  30.50000  2.5400  0.065214   137.869200      0        0   \n",
              "4     1        0  32.16667  9.7867  0.067051   546.503300      1        0   \n",
              "\n",
              "   dependents  months  majorcards  active  \n",
              "0           3      54           1      12  \n",
              "1           3      34           1      13  \n",
              "2           4      58           1       5  \n",
              "3           0      25           1       7  \n",
              "4           2      64           1       5  "
            ],
            "text/html": [
              "\n",
              "  <div id=\"df-a13b9666-0106-4833-8d43-7172528bc000\">\n",
              "    <div class=\"colab-df-container\">\n",
              "      <div>\n",
              "<style scoped>\n",
              "    .dataframe tbody tr th:only-of-type {\n",
              "        vertical-align: middle;\n",
              "    }\n",
              "\n",
              "    .dataframe tbody tr th {\n",
              "        vertical-align: top;\n",
              "    }\n",
              "\n",
              "    .dataframe thead th {\n",
              "        text-align: right;\n",
              "    }\n",
              "</style>\n",
              "<table border=\"1\" class=\"dataframe\">\n",
              "  <thead>\n",
              "    <tr style=\"text-align: right;\">\n",
              "      <th></th>\n",
              "      <th>card</th>\n",
              "      <th>reports</th>\n",
              "      <th>age</th>\n",
              "      <th>income</th>\n",
              "      <th>share</th>\n",
              "      <th>expenditure</th>\n",
              "      <th>owner</th>\n",
              "      <th>selfemp</th>\n",
              "      <th>dependents</th>\n",
              "      <th>months</th>\n",
              "      <th>majorcards</th>\n",
              "      <th>active</th>\n",
              "    </tr>\n",
              "  </thead>\n",
              "  <tbody>\n",
              "    <tr>\n",
              "      <th>0</th>\n",
              "      <td>1</td>\n",
              "      <td>0</td>\n",
              "      <td>37.66667</td>\n",
              "      <td>4.5200</td>\n",
              "      <td>0.033270</td>\n",
              "      <td>124.983300</td>\n",
              "      <td>1</td>\n",
              "      <td>0</td>\n",
              "      <td>3</td>\n",
              "      <td>54</td>\n",
              "      <td>1</td>\n",
              "      <td>12</td>\n",
              "    </tr>\n",
              "    <tr>\n",
              "      <th>1</th>\n",
              "      <td>1</td>\n",
              "      <td>0</td>\n",
              "      <td>33.25000</td>\n",
              "      <td>2.4200</td>\n",
              "      <td>0.005217</td>\n",
              "      <td>9.854167</td>\n",
              "      <td>0</td>\n",
              "      <td>0</td>\n",
              "      <td>3</td>\n",
              "      <td>34</td>\n",
              "      <td>1</td>\n",
              "      <td>13</td>\n",
              "    </tr>\n",
              "    <tr>\n",
              "      <th>2</th>\n",
              "      <td>1</td>\n",
              "      <td>0</td>\n",
              "      <td>33.66667</td>\n",
              "      <td>4.5000</td>\n",
              "      <td>0.004156</td>\n",
              "      <td>15.000000</td>\n",
              "      <td>1</td>\n",
              "      <td>0</td>\n",
              "      <td>4</td>\n",
              "      <td>58</td>\n",
              "      <td>1</td>\n",
              "      <td>5</td>\n",
              "    </tr>\n",
              "    <tr>\n",
              "      <th>3</th>\n",
              "      <td>1</td>\n",
              "      <td>0</td>\n",
              "      <td>30.50000</td>\n",
              "      <td>2.5400</td>\n",
              "      <td>0.065214</td>\n",
              "      <td>137.869200</td>\n",
              "      <td>0</td>\n",
              "      <td>0</td>\n",
              "      <td>0</td>\n",
              "      <td>25</td>\n",
              "      <td>1</td>\n",
              "      <td>7</td>\n",
              "    </tr>\n",
              "    <tr>\n",
              "      <th>4</th>\n",
              "      <td>1</td>\n",
              "      <td>0</td>\n",
              "      <td>32.16667</td>\n",
              "      <td>9.7867</td>\n",
              "      <td>0.067051</td>\n",
              "      <td>546.503300</td>\n",
              "      <td>1</td>\n",
              "      <td>0</td>\n",
              "      <td>2</td>\n",
              "      <td>64</td>\n",
              "      <td>1</td>\n",
              "      <td>5</td>\n",
              "    </tr>\n",
              "  </tbody>\n",
              "</table>\n",
              "</div>\n",
              "      <button class=\"colab-df-convert\" onclick=\"convertToInteractive('df-a13b9666-0106-4833-8d43-7172528bc000')\"\n",
              "              title=\"Convert this dataframe to an interactive table.\"\n",
              "              style=\"display:none;\">\n",
              "        \n",
              "  <svg xmlns=\"http://www.w3.org/2000/svg\" height=\"24px\"viewBox=\"0 0 24 24\"\n",
              "       width=\"24px\">\n",
              "    <path d=\"M0 0h24v24H0V0z\" fill=\"none\"/>\n",
              "    <path d=\"M18.56 5.44l.94 2.06.94-2.06 2.06-.94-2.06-.94-.94-2.06-.94 2.06-2.06.94zm-11 1L8.5 8.5l.94-2.06 2.06-.94-2.06-.94L8.5 2.5l-.94 2.06-2.06.94zm10 10l.94 2.06.94-2.06 2.06-.94-2.06-.94-.94-2.06-.94 2.06-2.06.94z\"/><path d=\"M17.41 7.96l-1.37-1.37c-.4-.4-.92-.59-1.43-.59-.52 0-1.04.2-1.43.59L10.3 9.45l-7.72 7.72c-.78.78-.78 2.05 0 2.83L4 21.41c.39.39.9.59 1.41.59.51 0 1.02-.2 1.41-.59l7.78-7.78 2.81-2.81c.8-.78.8-2.07 0-2.86zM5.41 20L4 18.59l7.72-7.72 1.47 1.35L5.41 20z\"/>\n",
              "  </svg>\n",
              "      </button>\n",
              "      \n",
              "  <style>\n",
              "    .colab-df-container {\n",
              "      display:flex;\n",
              "      flex-wrap:wrap;\n",
              "      gap: 12px;\n",
              "    }\n",
              "\n",
              "    .colab-df-convert {\n",
              "      background-color: #E8F0FE;\n",
              "      border: none;\n",
              "      border-radius: 50%;\n",
              "      cursor: pointer;\n",
              "      display: none;\n",
              "      fill: #1967D2;\n",
              "      height: 32px;\n",
              "      padding: 0 0 0 0;\n",
              "      width: 32px;\n",
              "    }\n",
              "\n",
              "    .colab-df-convert:hover {\n",
              "      background-color: #E2EBFA;\n",
              "      box-shadow: 0px 1px 2px rgba(60, 64, 67, 0.3), 0px 1px 3px 1px rgba(60, 64, 67, 0.15);\n",
              "      fill: #174EA6;\n",
              "    }\n",
              "\n",
              "    [theme=dark] .colab-df-convert {\n",
              "      background-color: #3B4455;\n",
              "      fill: #D2E3FC;\n",
              "    }\n",
              "\n",
              "    [theme=dark] .colab-df-convert:hover {\n",
              "      background-color: #434B5C;\n",
              "      box-shadow: 0px 1px 3px 1px rgba(0, 0, 0, 0.15);\n",
              "      filter: drop-shadow(0px 1px 2px rgba(0, 0, 0, 0.3));\n",
              "      fill: #FFFFFF;\n",
              "    }\n",
              "  </style>\n",
              "\n",
              "      <script>\n",
              "        const buttonEl =\n",
              "          document.querySelector('#df-a13b9666-0106-4833-8d43-7172528bc000 button.colab-df-convert');\n",
              "        buttonEl.style.display =\n",
              "          google.colab.kernel.accessAllowed ? 'block' : 'none';\n",
              "\n",
              "        async function convertToInteractive(key) {\n",
              "          const element = document.querySelector('#df-a13b9666-0106-4833-8d43-7172528bc000');\n",
              "          const dataTable =\n",
              "            await google.colab.kernel.invokeFunction('convertToInteractive',\n",
              "                                                     [key], {});\n",
              "          if (!dataTable) return;\n",
              "\n",
              "          const docLinkHtml = 'Like what you see? Visit the ' +\n",
              "            '<a target=\"_blank\" href=https://colab.research.google.com/notebooks/data_table.ipynb>data table notebook</a>'\n",
              "            + ' to learn more about interactive tables.';\n",
              "          element.innerHTML = '';\n",
              "          dataTable['output_type'] = 'display_data';\n",
              "          await google.colab.output.renderOutput(dataTable, element);\n",
              "          const docLink = document.createElement('div');\n",
              "          docLink.innerHTML = docLinkHtml;\n",
              "          element.appendChild(docLink);\n",
              "        }\n",
              "      </script>\n",
              "    </div>\n",
              "  </div>\n",
              "  "
            ]
          },
          "metadata": {},
          "execution_count": 130
        }
      ]
    },
    {
      "cell_type": "markdown",
      "source": [
        "## Train Test Validation split"
      ],
      "metadata": {
        "id": "1vQfrqEUY1RI"
      }
    },
    {
      "cell_type": "code",
      "source": [
        "from sklearn.model_selection import train_test_split\n",
        "Xtrain,Xtest = train_test_split(cc_data,test_size=0.20,random_state=1,stratify=cc_data['card'])\n",
        "Xtrain,Xval = train_test_split(Xtrain,test_size=0.20,random_state=1,stratify=Xtrain['card'])"
      ],
      "metadata": {
        "id": "cOvwfVAoY4Fw"
      },
      "execution_count": 68,
      "outputs": []
    },
    {
      "cell_type": "code",
      "source": [
        "print(Xtrain.shape,Xval.shape,Xtest.shape)"
      ],
      "metadata": {
        "colab": {
          "base_uri": "https://localhost:8080/"
        },
        "id": "IY1A6touZvPQ",
        "outputId": "783e0c4f-9d0a-4569-ca62-3fcef65ed93b"
      },
      "execution_count": 69,
      "outputs": [
        {
          "output_type": "stream",
          "name": "stdout",
          "text": [
            "(844, 12) (211, 12) (264, 12)\n"
          ]
        }
      ]
    },
    {
      "cell_type": "markdown",
      "source": [
        "## Question 1\n",
        "\n",
        "* ROC AUC could also be used to evaluate feature importance of numerical variables.\n",
        "\n",
        "Let's do that\n",
        "\n",
        "* For each numerical variable, use it as score and compute AUC with the card variable.\n",
        "* Use the training dataset for that.\n",
        "* If your AUC is < 0.5, invert this variable by putting \"-\" in front\n",
        "\n",
        "    - (e.g. -df_train['expenditure'])\n",
        "\n",
        "* AUC can go below 0.5 if the variable is negatively correlated with the target varialble. \n",
        "* You can change the direction of the correlation by negating this variable - then negative correlation becomes positive.\n",
        "\n",
        "#### Which numerical variable (among the following 4) has the highest AUC?\n",
        "\n",
        "* reports\n",
        "* dependents\n",
        "* active\n",
        "* share"
      ],
      "metadata": {
        "id": "7Is_pr3RbbR1"
      }
    },
    {
      "cell_type": "code",
      "source": [
        "ytrain = Xtrain[['card']]\n",
        "Xtrain = Xtrain.drop('card',axis=1)\n",
        "#\n",
        "yval = Xval[['card']]\n",
        "Xval  = Xval.drop('card',axis=1)\n",
        "#\n",
        "ytest = Xtest[['card']]\n",
        "Xtest = Xtest.drop('card',axis=1)\n"
      ],
      "metadata": {
        "id": "aA1XIruNZzwB"
      },
      "execution_count": 70,
      "outputs": []
    },
    {
      "cell_type": "code",
      "source": [
        "ytrain['card'].value_counts()"
      ],
      "metadata": {
        "colab": {
          "base_uri": "https://localhost:8080/"
        },
        "id": "DxF2jSuqlm4j",
        "outputId": "e0499334-650c-47f6-eb8e-edaad713d230"
      },
      "execution_count": 71,
      "outputs": [
        {
          "output_type": "execute_result",
          "data": {
            "text/plain": [
              "1    654\n",
              "0    190\n",
              "Name: card, dtype: int64"
            ]
          },
          "metadata": {},
          "execution_count": 71
        }
      ]
    },
    {
      "cell_type": "code",
      "source": [
        "ytest['card'].value_counts()"
      ],
      "metadata": {
        "colab": {
          "base_uri": "https://localhost:8080/"
        },
        "id": "4LAKwikemAdn",
        "outputId": "592e1f22-0f47-495f-9053-bac74a4a4b11"
      },
      "execution_count": 72,
      "outputs": [
        {
          "output_type": "execute_result",
          "data": {
            "text/plain": [
              "1    205\n",
              "0     59\n",
              "Name: card, dtype: int64"
            ]
          },
          "metadata": {},
          "execution_count": 72
        }
      ]
    },
    {
      "cell_type": "code",
      "source": [
        "yval['card'].value_counts()"
      ],
      "metadata": {
        "colab": {
          "base_uri": "https://localhost:8080/"
        },
        "id": "jH_xMiTYmCmk",
        "outputId": "16d5ace7-183b-48ed-89aa-200bd2334463"
      },
      "execution_count": 73,
      "outputs": [
        {
          "output_type": "execute_result",
          "data": {
            "text/plain": [
              "1    164\n",
              "0     47\n",
              "Name: card, dtype: int64"
            ]
          },
          "metadata": {},
          "execution_count": 73
        }
      ]
    },
    {
      "cell_type": "code",
      "source": [
        "from sklearn.linear_model import LogisticRegression\n",
        "from sklearn.metrics import roc_auc_score\n",
        "lr = LogisticRegression(solver='liblinear', C=1.0, max_iter=1000)"
      ],
      "metadata": {
        "id": "UJVLv-oVf0Pc"
      },
      "execution_count": 74,
      "outputs": []
    },
    {
      "cell_type": "code",
      "source": [
        "features = num_cols"
      ],
      "metadata": {
        "id": "c9hX6yaejNhc"
      },
      "execution_count": 75,
      "outputs": []
    },
    {
      "cell_type": "code",
      "source": [
        "features"
      ],
      "metadata": {
        "colab": {
          "base_uri": "https://localhost:8080/"
        },
        "id": "zahYi7mqjWNL",
        "outputId": "fa39071f-2370-4267-8301-e60fb455c157"
      },
      "execution_count": 76,
      "outputs": [
        {
          "output_type": "execute_result",
          "data": {
            "text/plain": [
              "['reports',\n",
              " 'age',\n",
              " 'income',\n",
              " 'share',\n",
              " 'expenditure',\n",
              " 'dependents',\n",
              " 'months',\n",
              " 'majorcards',\n",
              " 'active']"
            ]
          },
          "metadata": {},
          "execution_count": 76
        }
      ]
    },
    {
      "cell_type": "code",
      "source": [
        "from sklearn.feature_extraction import DictVectorizer\n",
        "import warnings\n",
        "warnings.filterwarnings('ignore')\n",
        "for c in features:\n",
        "    subset = features.copy()\n",
        "    subset.remove(c)\n",
        "    print(subset)\n",
        "    train_dict = Xtrain[subset].to_dict(orient='records')\n",
        "\n",
        "    dv = DictVectorizer(sparse=False)\n",
        "    dv.fit(train_dict)\n",
        "\n",
        "    X_train = dv.transform(train_dict)\n",
        "\n",
        "    model = LogisticRegression(solver='liblinear', C=1.0, max_iter=1000, random_state=42)\n",
        "    model.fit(X_train, ytrain)\n",
        "\n",
        "    val_dict = Xval[subset].to_dict(orient='records')\n",
        "    X_val = dv.transform(val_dict)\n",
        "\n",
        "    y_pred = model.predict(X_val)\n",
        "\n",
        "    score = roc_auc_score(yval,y_pred)\n",
        "    print(f\"feature : {c} auc_score : {score}\")"
      ],
      "metadata": {
        "colab": {
          "base_uri": "https://localhost:8080/"
        },
        "id": "-uvMSe1ljE22",
        "outputId": "324e6274-5756-4fca-a75a-a6945ed9bab8"
      },
      "execution_count": 80,
      "outputs": [
        {
          "output_type": "stream",
          "name": "stdout",
          "text": [
            "['age', 'income', 'share', 'expenditure', 'dependents', 'months', 'majorcards', 'active']\n",
            "feature : reports auc_score : 0.9939024390243902\n",
            "['reports', 'income', 'share', 'expenditure', 'dependents', 'months', 'majorcards', 'active']\n",
            "feature : age auc_score : 0.9939024390243902\n",
            "['reports', 'age', 'share', 'expenditure', 'dependents', 'months', 'majorcards', 'active']\n",
            "feature : income auc_score : 0.9939024390243902\n",
            "['reports', 'age', 'income', 'expenditure', 'dependents', 'months', 'majorcards', 'active']\n",
            "feature : share auc_score : 0.9939024390243902\n",
            "['reports', 'age', 'income', 'share', 'dependents', 'months', 'majorcards', 'active']\n",
            "feature : expenditure auc_score : 0.667163985469642\n",
            "['reports', 'age', 'income', 'share', 'expenditure', 'months', 'majorcards', 'active']\n",
            "feature : dependents auc_score : 0.9939024390243902\n",
            "['reports', 'age', 'income', 'share', 'expenditure', 'dependents', 'majorcards', 'active']\n",
            "feature : months auc_score : 0.9939024390243902\n",
            "['reports', 'age', 'income', 'share', 'expenditure', 'dependents', 'months', 'active']\n",
            "feature : majorcards auc_score : 0.9939024390243902\n",
            "['reports', 'age', 'income', 'share', 'expenditure', 'dependents', 'months', 'majorcards']\n",
            "feature : active auc_score : 0.9939024390243902\n"
          ]
        }
      ]
    },
    {
      "cell_type": "code",
      "source": [
        "for feature in Xtrain.columns:\n",
        "  Xtrain_new = Xtrain.copy()\n",
        "  Xtrain_new = Xtrain_new[[feature]]\n",
        "  Xval_new = Xval[[feature]]\n",
        "  lr.fit(Xtrain_new,ytrain)\n",
        "  ypred = lr.predict(Xval_new)\n",
        "  auc_score =  roc_auc_score(yval,ypred)\n",
        "  print(f\"feature : {feature} auc_score : {auc_score}\")"
      ],
      "metadata": {
        "colab": {
          "base_uri": "https://localhost:8080/"
        },
        "id": "V1H68Hz1gMAV",
        "outputId": "894a71b1-5d31-49d4-8515-0dd98566e8df"
      },
      "execution_count": 79,
      "outputs": [
        {
          "output_type": "stream",
          "name": "stdout",
          "text": [
            "feature : reports auc_score : 0.6048261546445252\n",
            "feature : age auc_score : 0.5\n",
            "feature : income auc_score : 0.5\n",
            "feature : share auc_score : 0.5\n",
            "feature : expenditure auc_score : 0.9939024390243902\n",
            "feature : owner auc_score : 0.5\n",
            "feature : selfemp auc_score : 0.5\n",
            "feature : dependents auc_score : 0.5\n",
            "feature : months auc_score : 0.5\n",
            "feature : majorcards auc_score : 0.5\n",
            "feature : active auc_score : 0.5\n"
          ]
        }
      ]
    },
    {
      "cell_type": "markdown",
      "source": [
        "* Numerical variable reports has the highest AUC Score"
      ],
      "metadata": {
        "id": "Nuyazl3duBm2"
      }
    },
    {
      "cell_type": "markdown",
      "source": [
        "## Training the model"
      ],
      "metadata": {
        "id": "G2BxlkgK0dIZ"
      }
    },
    {
      "cell_type": "code",
      "source": [
        "select_cols = [\"reports\", \"age\", \"income\", \"share\", \"expenditure\", \"dependents\", \"months\", \"majorcards\", \"active\", \"owner\", \"selfemp\"]"
      ],
      "metadata": {
        "id": "0FMd16tPtKFO"
      },
      "execution_count": 81,
      "outputs": []
    },
    {
      "cell_type": "code",
      "source": [
        "Xtrain = Xtrain[select_cols]\n",
        "Xval = Xval[select_cols]\n",
        "Xtest = Xtest[select_cols]"
      ],
      "metadata": {
        "id": "pRiKFXqr1WFp"
      },
      "execution_count": 82,
      "outputs": []
    },
    {
      "cell_type": "code",
      "source": [
        "lr = LogisticRegression(solver='liblinear', C=1.0, max_iter=1000)\n",
        "lr.fit(Xtrain,ytrain)\n",
        "ypred = lr.predict(Xval)"
      ],
      "metadata": {
        "id": "JkuHDJMm3RCK"
      },
      "execution_count": 83,
      "outputs": []
    },
    {
      "cell_type": "markdown",
      "source": [
        "## Question 2\n",
        "What's the AUC of this model on the validation dataset? (round to 3 digits)"
      ],
      "metadata": {
        "id": "fZcN7f265dM0"
      }
    },
    {
      "cell_type": "code",
      "source": [
        "auc_score = roc_auc_score(yval,ypred)\n",
        "print(f'AUC score of validation dataset {round(auc_score,3)}')"
      ],
      "metadata": {
        "colab": {
          "base_uri": "https://localhost:8080/"
        },
        "id": "R_KTZ4FF3eS5",
        "outputId": "b34adbdd-c02f-4304-f108-453d455a87b5"
      },
      "execution_count": 87,
      "outputs": [
        {
          "output_type": "stream",
          "name": "stdout",
          "text": [
            "AUC score of validation dataset 0.994\n"
          ]
        }
      ]
    },
    {
      "cell_type": "markdown",
      "source": [
        "## Question 3\n",
        "\n",
        "* Now let's compute precision and recall for our model.\n",
        "\n",
        "* Evaluate the model on all thresholds from 0.0 to 1.0 with step 0.01\n",
        "* For each threshold, compute precision and recall\n",
        "* Plot them\n",
        "At which threshold precision and recall curves intersect?\n",
        "\n",
        "  - 0.1\n",
        "  - 0.3\n",
        "  - 0.6\n",
        "  - 0.8"
      ],
      "metadata": {
        "id": "NrcyIaFa5lCG"
      }
    },
    {
      "cell_type": "code",
      "source": [
        "thresholds = [round(i,2) for i in np.arange(0.0,1.0,0.01).tolist()]"
      ],
      "metadata": {
        "id": "uN99VPtf9xv5"
      },
      "execution_count": 120,
      "outputs": []
    },
    {
      "cell_type": "code",
      "source": [
        "print(thresholds)"
      ],
      "metadata": {
        "colab": {
          "base_uri": "https://localhost:8080/"
        },
        "id": "_kuyX5TEC-64",
        "outputId": "40dbd144-4295-421d-a661-8d95d483ea05"
      },
      "execution_count": 121,
      "outputs": [
        {
          "output_type": "stream",
          "name": "stdout",
          "text": [
            "[0.0, 0.01, 0.02, 0.03, 0.04, 0.05, 0.06, 0.07, 0.08, 0.09, 0.1, 0.11, 0.12, 0.13, 0.14, 0.15, 0.16, 0.17, 0.18, 0.19, 0.2, 0.21, 0.22, 0.23, 0.24, 0.25, 0.26, 0.27, 0.28, 0.29, 0.3, 0.31, 0.32, 0.33, 0.34, 0.35, 0.36, 0.37, 0.38, 0.39, 0.4, 0.41, 0.42, 0.43, 0.44, 0.45, 0.46, 0.47, 0.48, 0.49, 0.5, 0.51, 0.52, 0.53, 0.54, 0.55, 0.56, 0.57, 0.58, 0.59, 0.6, 0.61, 0.62, 0.63, 0.64, 0.65, 0.66, 0.67, 0.68, 0.69, 0.7, 0.71, 0.72, 0.73, 0.74, 0.75, 0.76, 0.77, 0.78, 0.79, 0.8, 0.81, 0.82, 0.83, 0.84, 0.85, 0.86, 0.87, 0.88, 0.89, 0.9, 0.91, 0.92, 0.93, 0.94, 0.95, 0.96, 0.97, 0.98, 0.99]\n"
          ]
        }
      ]
    },
    {
      "cell_type": "code",
      "source": [
        "len(thresholds)"
      ],
      "metadata": {
        "colab": {
          "base_uri": "https://localhost:8080/"
        },
        "id": "AC_gY_dwAlPI",
        "outputId": "0d862b84-62a6-4ba4-aeb5-45f72b2b6934"
      },
      "execution_count": 122,
      "outputs": [
        {
          "output_type": "execute_result",
          "data": {
            "text/plain": [
              "100"
            ]
          },
          "metadata": {},
          "execution_count": 122
        }
      ]
    },
    {
      "cell_type": "code",
      "source": [
        "from sklearn.metrics import precision_score,recall_score\n",
        "precisions = []\n",
        "recalls = []\n",
        "for i in thresholds:\n",
        "  temp_prediction = [1 if x >= i else 0 for x in ypred]\n",
        "  p = precision_score(yval, temp_prediction)\n",
        "  r = recall_score(yval, temp_prediction)\n",
        "  precisions.append(p)\n",
        "  recalls.append(r)\n"
      ],
      "metadata": {
        "id": "VHDR3_ZY3mVy"
      },
      "execution_count": 123,
      "outputs": []
    },
    {
      "cell_type": "code",
      "source": [
        "plt.plot(thresholds,recalls)\n",
        "plt.xlabel('threshold')\n",
        "plt.ylabel('recall')\n",
        "plt.show()"
      ],
      "metadata": {
        "colab": {
          "base_uri": "https://localhost:8080/",
          "height": 279
        },
        "id": "uqiRSN-bBCI4",
        "outputId": "7ec12515-8fcd-41ee-a3dc-1d280dacf48f"
      },
      "execution_count": 124,
      "outputs": [
        {
          "output_type": "display_data",
          "data": {
            "text/plain": [
              "<Figure size 432x288 with 1 Axes>"
            ],
            "image/png": "[encoded data removed]"
          },
          "metadata": {
            "needs_background": "light"
          }
        }
      ]
    },
    {
      "cell_type": "code",
      "source": [
        "plt.plot(thresholds,precisions)\n",
        "plt.xlabel('threshold')\n",
        "plt.ylabel('precision')\n",
        "plt.show()"
      ],
      "metadata": {
        "colab": {
          "base_uri": "https://localhost:8080/",
          "height": 279
        },
        "id": "eFxyE_MTBx7H",
        "outputId": "c06d4710-8ff4-43d1-df0d-3cf5a875fe03"
      },
      "execution_count": 125,
      "outputs": [
        {
          "output_type": "display_data",
          "data": {
            "text/plain": [
              "<Figure size 432x288 with 1 Axes>"
            ],
            "image/png": "[encoded data removed]"
          },
          "metadata": {
            "needs_background": "light"
          }
        }
      ]
    },
    {
      "cell_type": "code",
      "source": [
        "plt.figure(figsize=(7, 7))\n",
        "plt.plot(thresholds,recalls, label='Recall')\n",
        "plt.plot(thresholds,precisions,label='Precision')\n",
        "plt.xlabel('threshold')\n",
        "plt.legend()\n",
        "plt.show()\n"
      ],
      "metadata": {
        "colab": {
          "base_uri": "https://localhost:8080/",
          "height": 442
        },
        "id": "hmuqtzfp--AG",
        "outputId": "70643a9d-709d-4c3e-f1c5-dd4ee33301aa"
      },
      "execution_count": 126,
      "outputs": [
        {
          "output_type": "display_data",
          "data": {
            "text/plain": [
              "<Figure size 504x504 with 1 Axes>"
            ],
            "image/png": "[encoded data removed]"
          },
          "metadata": {
            "needs_background": "light"
          }
        }
      ]
    },
    {
      "cell_type": "markdown",
      "source": [
        "* thresholds at which precision and recall curves intersect is 0.98"
      ],
      "metadata": {
        "id": "v4IzNNA4DHHq"
      }
    },
    {
      "cell_type": "markdown",
      "source": [
        "## Question 4\n",
        "\n",
        "Precision and recall are conflicting - when one grows, the other goes down. That's why they are often combined into the F1 score - a metrics that takes into account both\n",
        "\n",
        "This is the formula for computing :\n",
        "\n",
        " ![image.png](data:image/png;base64,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)\n",
        "\n",
        "    - Where  p is precision and r is recall.\n",
        "\n",
        "#### Let's compute F1 for all thresholds from 0.0 to 1.0 with increment 0.01\n",
        "\n",
        "* At which threshold F1 is maximal?\n",
        "\n",
        "    - 0.1\n",
        "    - 0.4\n",
        "    - 0.6\n",
        "    - 0.7"
      ],
      "metadata": {
        "id": "P3xuxekoDr6q"
      }
    },
    {
      "cell_type": "code",
      "source": [
        "f1_score = []\n",
        "for i in thresholds:\n",
        "  temp_prediction = [1 if x >= i else 0 for x in ypred]\n",
        "  p = precision_score(yval, temp_prediction)\n",
        "  r = recall_score(yval, temp_prediction)\n",
        "  f1 = round((2 * ((p * r) / (p + r))),4)\n",
        "  f1_score.append(f1)\n",
        "  print(f\"f1 score at threshold {i} : {f1}\")"
      ],
      "metadata": {
        "colab": {
          "base_uri": "https://localhost:8080/"
        },
        "id": "kJM_2Bb6AcMK",
        "outputId": "2477e71d-51c4-48c7-8a2d-e91cdaca4123"
      },
      "execution_count": 128,
      "outputs": [
        {
          "output_type": "stream",
          "name": "stdout",
          "text": [
            "f1 score at threshold 0.0 : 0.8747\n",
            "f1 score at threshold 0.01 : 0.9939\n",
            "f1 score at threshold 0.02 : 0.9939\n",
            "f1 score at threshold 0.03 : 0.9939\n",
            "f1 score at threshold 0.04 : 0.9939\n",
            "f1 score at threshold 0.05 : 0.9939\n",
            "f1 score at threshold 0.06 : 0.9939\n",
            "f1 score at threshold 0.07 : 0.9939\n",
            "f1 score at threshold 0.08 : 0.9939\n",
            "f1 score at threshold 0.09 : 0.9939\n",
            "f1 score at threshold 0.1 : 0.9939\n",
            "f1 score at threshold 0.11 : 0.9939\n",
            "f1 score at threshold 0.12 : 0.9939\n",
            "f1 score at threshold 0.13 : 0.9939\n",
            "f1 score at threshold 0.14 : 0.9939\n",
            "f1 score at threshold 0.15 : 0.9939\n",
            "f1 score at threshold 0.16 : 0.9939\n",
            "f1 score at threshold 0.17 : 0.9939\n",
            "f1 score at threshold 0.18 : 0.9939\n",
            "f1 score at threshold 0.19 : 0.9939\n",
            "f1 score at threshold 0.2 : 0.9939\n",
            "f1 score at threshold 0.21 : 0.9939\n",
            "f1 score at threshold 0.22 : 0.9939\n",
            "f1 score at threshold 0.23 : 0.9939\n",
            "f1 score at threshold 0.24 : 0.9939\n",
            "f1 score at threshold 0.25 : 0.9939\n",
            "f1 score at threshold 0.26 : 0.9939\n",
            "f1 score at threshold 0.27 : 0.9939\n",
            "f1 score at threshold 0.28 : 0.9939\n",
            "f1 score at threshold 0.29 : 0.9939\n",
            "f1 score at threshold 0.3 : 0.9939\n",
            "f1 score at threshold 0.31 : 0.9939\n",
            "f1 score at threshold 0.32 : 0.9939\n",
            "f1 score at threshold 0.33 : 0.9939\n",
            "f1 score at threshold 0.34 : 0.9939\n",
            "f1 score at threshold 0.35 : 0.9939\n",
            "f1 score at threshold 0.36 : 0.9939\n",
            "f1 score at threshold 0.37 : 0.9939\n",
            "f1 score at threshold 0.38 : 0.9939\n",
            "f1 score at threshold 0.39 : 0.9939\n",
            "f1 score at threshold 0.4 : 0.9939\n",
            "f1 score at threshold 0.41 : 0.9939\n",
            "f1 score at threshold 0.42 : 0.9939\n",
            "f1 score at threshold 0.43 : 0.9939\n",
            "f1 score at threshold 0.44 : 0.9939\n",
            "f1 score at threshold 0.45 : 0.9939\n",
            "f1 score at threshold 0.46 : 0.9939\n",
            "f1 score at threshold 0.47 : 0.9939\n",
            "f1 score at threshold 0.48 : 0.9939\n",
            "f1 score at threshold 0.49 : 0.9939\n",
            "f1 score at threshold 0.5 : 0.9939\n",
            "f1 score at threshold 0.51 : 0.9939\n",
            "f1 score at threshold 0.52 : 0.9939\n",
            "f1 score at threshold 0.53 : 0.9939\n",
            "f1 score at threshold 0.54 : 0.9939\n",
            "f1 score at threshold 0.55 : 0.9939\n",
            "f1 score at threshold 0.56 : 0.9939\n",
            "f1 score at threshold 0.57 : 0.9939\n",
            "f1 score at threshold 0.58 : 0.9939\n",
            "f1 score at threshold 0.59 : 0.9939\n",
            "f1 score at threshold 0.6 : 0.9939\n",
            "f1 score at threshold 0.61 : 0.9939\n",
            "f1 score at threshold 0.62 : 0.9939\n",
            "f1 score at threshold 0.63 : 0.9939\n",
            "f1 score at threshold 0.64 : 0.9939\n",
            "f1 score at threshold 0.65 : 0.9939\n",
            "f1 score at threshold 0.66 : 0.9939\n",
            "f1 score at threshold 0.67 : 0.9939\n",
            "f1 score at threshold 0.68 : 0.9939\n",
            "f1 score at threshold 0.69 : 0.9939\n",
            "f1 score at threshold 0.7 : 0.9939\n",
            "f1 score at threshold 0.71 : 0.9939\n",
            "f1 score at threshold 0.72 : 0.9939\n",
            "f1 score at threshold 0.73 : 0.9939\n",
            "f1 score at threshold 0.74 : 0.9939\n",
            "f1 score at threshold 0.75 : 0.9939\n",
            "f1 score at threshold 0.76 : 0.9939\n",
            "f1 score at threshold 0.77 : 0.9939\n",
            "f1 score at threshold 0.78 : 0.9939\n",
            "f1 score at threshold 0.79 : 0.9939\n",
            "f1 score at threshold 0.8 : 0.9939\n",
            "f1 score at threshold 0.81 : 0.9939\n",
            "f1 score at threshold 0.82 : 0.9939\n",
            "f1 score at threshold 0.83 : 0.9939\n",
            "f1 score at threshold 0.84 : 0.9939\n",
            "f1 score at threshold 0.85 : 0.9939\n",
            "f1 score at threshold 0.86 : 0.9939\n",
            "f1 score at threshold 0.87 : 0.9939\n",
            "f1 score at threshold 0.88 : 0.9939\n",
            "f1 score at threshold 0.89 : 0.9939\n",
            "f1 score at threshold 0.9 : 0.9939\n",
            "f1 score at threshold 0.91 : 0.9939\n",
            "f1 score at threshold 0.92 : 0.9939\n",
            "f1 score at threshold 0.93 : 0.9939\n",
            "f1 score at threshold 0.94 : 0.9939\n",
            "f1 score at threshold 0.95 : 0.9939\n",
            "f1 score at threshold 0.96 : 0.9939\n",
            "f1 score at threshold 0.97 : 0.9939\n",
            "f1 score at threshold 0.98 : 0.9939\n",
            "f1 score at threshold 0.99 : 0.9939\n"
          ]
        }
      ]
    },
    {
      "cell_type": "code",
      "source": [
        "plt.plot(thresholds,f1_score)\n",
        "plt.xlabel('threshold')\n",
        "plt.ylabel('F1 Score')\n",
        "plt.show()"
      ],
      "metadata": {
        "colab": {
          "base_uri": "https://localhost:8080/",
          "height": 279
        },
        "id": "U0l0hvLDHFEb",
        "outputId": "f8412f88-371a-4a8f-bdf1-4157de9be897"
      },
      "execution_count": 129,
      "outputs": [
        {
          "output_type": "display_data",
          "data": {
            "text/plain": [
              "<Figure size 432x288 with 1 Axes>"
            ],
            "image/png": "[encoded data removed]"
          },
          "metadata": {
            "needs_background": "light"
          }
        }
      ]
    },
    {
      "cell_type": "markdown",
      "source": [
        "* F1 is maximal at threshold 0.1"
      ],
      "metadata": {
        "id": "IMFA5nHBIzCV"
      }
    },
    {
      "cell_type": "markdown",
      "source": [
        "## Question 5\n",
        "\n",
        "Use the KFold class from Scikit-Learn to evaluate our model on 5 different folds:\n",
        "\n",
        "* KFold(n_splits=5, shuffle=True, random_state=1)\n",
        "* Iterate over different folds of df_full_train\n",
        "* Split the data into train and validation\n",
        "* Train the model on train with these parameters:    \n",
        "    - LogisticRegression(solver='liblinear', C=1.0, max_iter=1000)\n",
        "* Use AUC to evaluate the model on validation\n",
        "\n",
        "* How large is standard devidation of the AUC scores across different folds?\n",
        "\n",
        "    - 0.003\n",
        "    - 0.014\n",
        "    - 0.09\n",
        "    - 0.24"
      ],
      "metadata": {
        "id": "10Xhs0BLI_0D"
      }
    },
    {
      "cell_type": "code",
      "source": [
        "fpr, tpr, thresholds = metrics.roc_curve(y, pred, pos_label=2)\n",
        "metrics.auc(fpr, tpr)"
      ],
      "metadata": {
        "id": "L8FrSnXvLbtk"
      },
      "execution_count": null,
      "outputs": []
    },
    {
      "cell_type": "code",
      "source": [
        "cc_data[select_cols].head()"
      ],
      "metadata": {
        "colab": {
          "base_uri": "https://localhost:8080/",
          "height": 206
        },
        "id": "5FLu38BJKzZ1",
        "outputId": "320d3b62-b106-46f4-804d-18ab5a1f70fe"
      },
      "execution_count": 131,
      "outputs": [
        {
          "output_type": "execute_result",
          "data": {
            "text/plain": [
              "   reports       age  income     share  expenditure  dependents  months  \\\n",
              "0        0  37.66667  4.5200  0.033270   124.983300           3      54   \n",
              "1        0  33.25000  2.4200  0.005217     9.854167           3      34   \n",
              "2        0  33.66667  4.5000  0.004156    15.000000           4      58   \n",
              "3        0  30.50000  2.5400  0.065214   137.869200           0      25   \n",
              "4        0  32.16667  9.7867  0.067051   546.503300           2      64   \n",
              "\n",
              "   majorcards  active  owner  selfemp  \n",
              "0           1      12      1        0  \n",
              "1           1      13      0        0  \n",
              "2           1       5      1        0  \n",
              "3           1       7      0        0  \n",
              "4           1       5      1        0  "
            ],
            "text/html": [
              "\n",
              "  <div id=\"df-27c2b7fb-0c7a-4e55-babd-bb72fc95a674\">\n",
              "    <div class=\"colab-df-container\">\n",
              "      <div>\n",
              "<style scoped>\n",
              "    .dataframe tbody tr th:only-of-type {\n",
              "        vertical-align: middle;\n",
              "    }\n",
              "\n",
              "    .dataframe tbody tr th {\n",
              "        vertical-align: top;\n",
              "    }\n",
              "\n",
              "    .dataframe thead th {\n",
              "        text-align: right;\n",
              "    }\n",
              "</style>\n",
              "<table border=\"1\" class=\"dataframe\">\n",
              "  <thead>\n",
              "    <tr style=\"text-align: right;\">\n",
              "      <th></th>\n",
              "      <th>reports</th>\n",
              "      <th>age</th>\n",
              "      <th>income</th>\n",
              "      <th>share</th>\n",
              "      <th>expenditure</th>\n",
              "      <th>dependents</th>\n",
              "      <th>months</th>\n",
              "      <th>majorcards</th>\n",
              "      <th>active</th>\n",
              "      <th>owner</th>\n",
              "      <th>selfemp</th>\n",
              "    </tr>\n",
              "  </thead>\n",
              "  <tbody>\n",
              "    <tr>\n",
              "      <th>0</th>\n",
              "      <td>0</td>\n",
              "      <td>37.66667</td>\n",
              "      <td>4.5200</td>\n",
              "      <td>0.033270</td>\n",
              "      <td>124.983300</td>\n",
              "      <td>3</td>\n",
              "      <td>54</td>\n",
              "      <td>1</td>\n",
              "      <td>12</td>\n",
              "      <td>1</td>\n",
              "      <td>0</td>\n",
              "    </tr>\n",
              "    <tr>\n",
              "      <th>1</th>\n",
              "      <td>0</td>\n",
              "      <td>33.25000</td>\n",
              "      <td>2.4200</td>\n",
              "      <td>0.005217</td>\n",
              "      <td>9.854167</td>\n",
              "      <td>3</td>\n",
              "      <td>34</td>\n",
              "      <td>1</td>\n",
              "      <td>13</td>\n",
              "      <td>0</td>\n",
              "      <td>0</td>\n",
              "    </tr>\n",
              "    <tr>\n",
              "      <th>2</th>\n",
              "      <td>0</td>\n",
              "      <td>33.66667</td>\n",
              "      <td>4.5000</td>\n",
              "      <td>0.004156</td>\n",
              "      <td>15.000000</td>\n",
              "      <td>4</td>\n",
              "      <td>58</td>\n",
              "      <td>1</td>\n",
              "      <td>5</td>\n",
              "      <td>1</td>\n",
              "      <td>0</td>\n",
              "    </tr>\n",
              "    <tr>\n",
              "      <th>3</th>\n",
              "      <td>0</td>\n",
              "      <td>30.50000</td>\n",
              "      <td>2.5400</td>\n",
              "      <td>0.065214</td>\n",
              "      <td>137.869200</td>\n",
              "      <td>0</td>\n",
              "      <td>25</td>\n",
              "      <td>1</td>\n",
              "      <td>7</td>\n",
              "      <td>0</td>\n",
              "      <td>0</td>\n",
              "    </tr>\n",
              "    <tr>\n",
              "      <th>4</th>\n",
              "      <td>0</td>\n",
              "      <td>32.16667</td>\n",
              "      <td>9.7867</td>\n",
              "      <td>0.067051</td>\n",
              "      <td>546.503300</td>\n",
              "      <td>2</td>\n",
              "      <td>64</td>\n",
              "      <td>1</td>\n",
              "      <td>5</td>\n",
              "      <td>1</td>\n",
              "      <td>0</td>\n",
              "    </tr>\n",
              "  </tbody>\n",
              "</table>\n",
              "</div>\n",
              "      <button class=\"colab-df-convert\" onclick=\"convertToInteractive('df-27c2b7fb-0c7a-4e55-babd-bb72fc95a674')\"\n",
              "              title=\"Convert this dataframe to an interactive table.\"\n",
              "              style=\"display:none;\">\n",
              "        \n",
              "  <svg xmlns=\"http://www.w3.org/2000/svg\" height=\"24px\"viewBox=\"0 0 24 24\"\n",
              "       width=\"24px\">\n",
              "    <path d=\"M0 0h24v24H0V0z\" fill=\"none\"/>\n",
              "    <path d=\"M18.56 5.44l.94 2.06.94-2.06 2.06-.94-2.06-.94-.94-2.06-.94 2.06-2.06.94zm-11 1L8.5 8.5l.94-2.06 2.06-.94-2.06-.94L8.5 2.5l-.94 2.06-2.06.94zm10 10l.94 2.06.94-2.06 2.06-.94-2.06-.94-.94-2.06-.94 2.06-2.06.94z\"/><path d=\"M17.41 7.96l-1.37-1.37c-.4-.4-.92-.59-1.43-.59-.52 0-1.04.2-1.43.59L10.3 9.45l-7.72 7.72c-.78.78-.78 2.05 0 2.83L4 21.41c.39.39.9.59 1.41.59.51 0 1.02-.2 1.41-.59l7.78-7.78 2.81-2.81c.8-.78.8-2.07 0-2.86zM5.41 20L4 18.59l7.72-7.72 1.47 1.35L5.41 20z\"/>\n",
              "  </svg>\n",
              "      </button>\n",
              "      \n",
              "  <style>\n",
              "    .colab-df-container {\n",
              "      display:flex;\n",
              "      flex-wrap:wrap;\n",
              "      gap: 12px;\n",
              "    }\n",
              "\n",
              "    .colab-df-convert {\n",
              "      background-color: #E8F0FE;\n",
              "      border: none;\n",
              "      border-radius: 50%;\n",
              "      cursor: pointer;\n",
              "      display: none;\n",
              "      fill: #1967D2;\n",
              "      height: 32px;\n",
              "      padding: 0 0 0 0;\n",
              "      width: 32px;\n",
              "    }\n",
              "\n",
              "    .colab-df-convert:hover {\n",
              "      background-color: #E2EBFA;\n",
              "      box-shadow: 0px 1px 2px rgba(60, 64, 67, 0.3), 0px 1px 3px 1px rgba(60, 64, 67, 0.15);\n",
              "      fill: #174EA6;\n",
              "    }\n",
              "\n",
              "    [theme=dark] .colab-df-convert {\n",
              "      background-color: #3B4455;\n",
              "      fill: #D2E3FC;\n",
              "    }\n",
              "\n",
              "    [theme=dark] .colab-df-convert:hover {\n",
              "      background-color: #434B5C;\n",
              "      box-shadow: 0px 1px 3px 1px rgba(0, 0, 0, 0.15);\n",
              "      filter: drop-shadow(0px 1px 2px rgba(0, 0, 0, 0.3));\n",
              "      fill: #FFFFFF;\n",
              "    }\n",
              "  </style>\n",
              "\n",
              "      <script>\n",
              "        const buttonEl =\n",
              "          document.querySelector('#df-27c2b7fb-0c7a-4e55-babd-bb72fc95a674 button.colab-df-convert');\n",
              "        buttonEl.style.display =\n",
              "          google.colab.kernel.accessAllowed ? 'block' : 'none';\n",
              "\n",
              "        async function convertToInteractive(key) {\n",
              "          const element = document.querySelector('#df-27c2b7fb-0c7a-4e55-babd-bb72fc95a674');\n",
              "          const dataTable =\n",
              "            await google.colab.kernel.invokeFunction('convertToInteractive',\n",
              "                                                     [key], {});\n",
              "          if (!dataTable) return;\n",
              "\n",
              "          const docLinkHtml = 'Like what you see? Visit the ' +\n",
              "            '<a target=\"_blank\" href=https://colab.research.google.com/notebooks/data_table.ipynb>data table notebook</a>'\n",
              "            + ' to learn more about interactive tables.';\n",
              "          element.innerHTML = '';\n",
              "          dataTable['output_type'] = 'display_data';\n",
              "          await google.colab.output.renderOutput(dataTable, element);\n",
              "          const docLink = document.createElement('div');\n",
              "          docLink.innerHTML = docLinkHtml;\n",
              "          element.appendChild(docLink);\n",
              "        }\n",
              "      </script>\n",
              "    </div>\n",
              "  </div>\n",
              "  "
            ]
          },
          "metadata": {},
          "execution_count": 131
        }
      ]
    },
    {
      "cell_type": "code",
      "source": [
        "from sklearn.model_selection import KFold\n",
        "from sklearn import metrics\n",
        "X = cc_data[select_cols].values\n",
        "y = cc_data['card'].values\n",
        "scores=[]\n",
        "kf = KFold(n_splits=5, shuffle=True, random_state=1)\n",
        "k =0\n",
        "for train_index, test_index in kf.split(X):\n",
        "  k +=1\n",
        "  X_train, X_test = X[train_index], X[test_index]\n",
        "  y_train, y_test = y[train_index], y[test_index]\n",
        "  lr = LogisticRegression(solver='liblinear', C=1.0, max_iter=1000)\n",
        "  lr.fit(X_train,y_train)\n",
        "  pred = lr.predict(X_test)\n",
        "  fpr, tpr, thresholds = metrics.roc_curve(y_test, pred)\n",
        "  auc = metrics.auc(fpr, tpr)\n",
        "  scores.append(auc)\n",
        "  print(f\"AUC score for Fold {k} : {auc}\")"
      ],
      "metadata": {
        "colab": {
          "base_uri": "https://localhost:8080/"
        },
        "id": "5P_3yJKzJdmm",
        "outputId": "ca300961-c696-4ea9-d2f1-0ca528668e18"
      },
      "execution_count": 134,
      "outputs": [
        {
          "output_type": "stream",
          "name": "stdout",
          "text": [
            "AUC score for Fold 1 : 0.9924242424242424\n",
            "AUC score for Fold 2 : 0.9845132743362832\n",
            "AUC score for Fold 3 : 0.9896907216494846\n",
            "AUC score for Fold 4 : 0.9881516587677726\n",
            "AUC score for Fold 5 : 0.977775287613925\n"
          ]
        }
      ]
    },
    {
      "cell_type": "code",
      "source": [
        "print(f\"How large is standard devidation of the AUC scores across different folds : {round(np.std(scores),3)}\")"
      ],
      "metadata": {
        "colab": {
          "base_uri": "https://localhost:8080/"
        },
        "id": "Ur6jZEpbMpG8",
        "outputId": "f11495b2-9e5d-48db-ad25-367ce2bb1f64"
      },
      "execution_count": 137,
      "outputs": [
        {
          "output_type": "stream",
          "name": "stdout",
          "text": [
            "How large is standard devidation of the AUC scores across different folds : 0.005\n"
          ]
        }
      ]
    },
    {
      "cell_type": "markdown",
      "source": [
        "## Question 6\n",
        "\n",
        "* Now let's use 5-Fold cross-validation to find the best parameter C\n",
        "\n",
        "* Iterate over the following C values: [0.01, 0.1, 1, 10]\n",
        "* Initialize KFold with the same parameters as previously\n",
        "* Use these parametes for the model: LogisticRegression(solver='liblinear', C=C, max_iter=1000)\n",
        "* Compute the mean score as well as the std (round the mean and std to 3 decimal digits)\n",
        "\n",
        "* Which C leads to the best mean score?\n",
        "\n",
        "    - 0.01\n",
        "    - 0.1\n",
        "    - 1\n",
        "    - 10\n",
        "\n",
        "* If you have ties, select the score with the lowest std. \n",
        "* If you still have ties, select the smallest C"
      ],
      "metadata": {
        "id": "qyhv_25PNFd1"
      }
    },
    {
      "cell_type": "code",
      "source": [
        "c =  [0.01, 0.1, 1, 10]\n",
        "c_dict = {}\n",
        "for cval in c:\n",
        "  scores=[]\n",
        "  kf = KFold(n_splits=5, shuffle=True, random_state=1)\n",
        "  k =0\n",
        "  for train_index, test_index in kf.split(X):\n",
        "    k +=1\n",
        "    X_train, X_test = X[train_index], X[test_index]\n",
        "    y_train, y_test = y[train_index], y[test_index]\n",
        "    lr = LogisticRegression(solver='liblinear', C=cval, max_iter=1000)\n",
        "    lr.fit(X_train,y_train)\n",
        "    pred = lr.predict(X_test)\n",
        "    fpr, tpr, thresholds = metrics.roc_curve(y_test, pred)\n",
        "    auc = metrics.auc(fpr, tpr)\n",
        "    scores.append(auc)\n",
        "    print(f\"AUC score for Fold {k} and C value {cval}: {auc}\")\n",
        "  mean = np.mean(scores)\n",
        "  std = np.std(scores)\n",
        "  print(f\"mean scores {round(mean,3)} for C value : {cval}\")\n",
        "  print(f\"std scores {round(std,3)} for C value : {cval}\")\n",
        "  c_dict[cval] = [{'mean_score':round(mean,3),'std_score':round(std,3)}]"
      ],
      "metadata": {
        "colab": {
          "base_uri": "https://localhost:8080/"
        },
        "id": "c89Jgr2XMq1C",
        "outputId": "6350c4a0-056f-4f6a-e387-89f1bac1b0a8"
      },
      "execution_count": 143,
      "outputs": [
        {
          "output_type": "stream",
          "name": "stdout",
          "text": [
            "AUC score for Fold 1 and C value 0.01: 0.9924242424242424\n",
            "AUC score for Fold 2 and C value 0.01: 0.9845132743362832\n",
            "AUC score for Fold 3 and C value 0.01: 0.9896907216494846\n",
            "AUC score for Fold 4 and C value 0.01: 0.9881516587677726\n",
            "AUC score for Fold 5 and C value 0.01: 0.9845360824742269\n",
            "mean scores 0.988 for C value : 0.01\n",
            "std scores 0.003 for C value : 0.01\n",
            "AUC score for Fold 1 and C value 0.1: 0.9924242424242424\n",
            "AUC score for Fold 2 and C value 0.1: 0.9845132743362832\n",
            "AUC score for Fold 3 and C value 0.1: 0.9896907216494846\n",
            "AUC score for Fold 4 and C value 0.1: 0.9881516587677726\n",
            "AUC score for Fold 5 and C value 0.1: 0.9798670252502616\n",
            "mean scores 0.987 for C value : 0.1\n",
            "std scores 0.004 for C value : 0.1\n",
            "AUC score for Fold 1 and C value 1: 0.9924242424242424\n",
            "AUC score for Fold 2 and C value 1: 0.9845132743362832\n",
            "AUC score for Fold 3 and C value 1: 0.9896907216494846\n",
            "AUC score for Fold 4 and C value 1: 0.9881516587677726\n",
            "AUC score for Fold 5 and C value 1: 0.977775287613925\n",
            "mean scores 0.987 for C value : 1\n",
            "std scores 0.005 for C value : 1\n",
            "AUC score for Fold 1 and C value 10: 0.9924242424242424\n",
            "AUC score for Fold 2 and C value 10: 0.9845132743362832\n",
            "AUC score for Fold 3 and C value 10: 0.9896907216494846\n",
            "AUC score for Fold 4 and C value 10: 0.9787176965036216\n",
            "AUC score for Fold 5 and C value 10: 0.967951591214702\n",
            "mean scores 0.983 for C value : 10\n",
            "std scores 0.009 for C value : 10\n"
          ]
        }
      ]
    },
    {
      "cell_type": "code",
      "source": [
        "c_dict"
      ],
      "metadata": {
        "colab": {
          "base_uri": "https://localhost:8080/"
        },
        "id": "Joo_fTFyRL2f",
        "outputId": "6ac854a6-3833-4938-f7bf-eeddf63fee98"
      },
      "execution_count": 144,
      "outputs": [
        {
          "output_type": "execute_result",
          "data": {
            "text/plain": [
              "{0.01: [{'mean_score': 0.988, 'std_score': 0.003}],\n",
              " 0.1: [{'mean_score': 0.987, 'std_score': 0.004}],\n",
              " 1: [{'mean_score': 0.987, 'std_score': 0.005}],\n",
              " 10: [{'mean_score': 0.983, 'std_score': 0.009}]}"
            ]
          },
          "metadata": {},
          "execution_count": 144
        }
      ]
    },
    {
      "cell_type": "markdown",
      "source": [
        "* The C value that leads to the best mean score is 0.01"
      ],
      "metadata": {
        "id": "7lSOf8PDRs6L"
      }
    }
  ]
}