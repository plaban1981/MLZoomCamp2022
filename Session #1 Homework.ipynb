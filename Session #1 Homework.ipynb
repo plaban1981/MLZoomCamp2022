{
 "cells": [
  {
   "cell_type": "markdown",
   "id": "f298748b",
   "metadata": {},
   "source": [
    "## Question 1\n",
    "What's the version of NumPy that you installed?"
   ]
  },
  {
   "cell_type": "code",
   "execution_count": 5,
   "id": "0ee42404",
   "metadata": {
    "ExecuteTime": {
     "end_time": "2022-09-06T10:06:04.243265Z",
     "start_time": "2022-09-06T10:06:04.232265Z"
    }
   },
   "outputs": [
    {
     "name": "stdout",
     "output_type": "stream",
     "text": [
      "1.21.5\n"
     ]
    }
   ],
   "source": [
    "import numpy as np\n",
    "print(np.__version__)"
   ]
  },
  {
   "cell_type": "markdown",
   "id": "729345d3",
   "metadata": {},
   "source": [
    "## Question 2\n",
    "\n",
    "How many records are in the dataset?\n",
    "\n",
    "Here you need to specify the number of rows.\n",
    "\n",
    "* 16\n",
    "* 6572\n",
    "* 11914\n",
    "* 18990"
   ]
  },
  {
   "cell_type": "code",
   "execution_count": 3,
   "id": "f52904a4",
   "metadata": {
    "ExecuteTime": {
     "end_time": "2022-09-06T10:04:25.337667Z",
     "start_time": "2022-09-06T10:04:25.326672Z"
    }
   },
   "outputs": [],
   "source": [
    "url = \"https://raw.githubusercontent.com/alexeygrigorev/mlbookcamp-code/master/chapter-02-car-price/data.csv\""
   ]
  },
  {
   "cell_type": "code",
   "execution_count": 4,
   "id": "777748e6",
   "metadata": {
    "ExecuteTime": {
     "end_time": "2022-09-06T10:04:52.977253Z",
     "start_time": "2022-09-06T10:04:51.582595Z"
    }
   },
   "outputs": [
    {
     "data": {
      "text/html": [
       "<div>\n",
       "<style scoped>\n",
       "    .dataframe tbody tr th:only-of-type {\n",
       "        vertical-align: middle;\n",
       "    }\n",
       "\n",
       "    .dataframe tbody tr th {\n",
       "        vertical-align: top;\n",
       "    }\n",
       "\n",
       "    .dataframe thead th {\n",
       "        text-align: right;\n",
       "    }\n",
       "</style>\n",
       "<table border=\"1\" class=\"dataframe\">\n",
       "  <thead>\n",
       "    <tr style=\"text-align: right;\">\n",
       "      <th></th>\n",
       "      <th>Make</th>\n",
       "      <th>Model</th>\n",
       "      <th>Year</th>\n",
       "      <th>Engine Fuel Type</th>\n",
       "      <th>Engine HP</th>\n",
       "      <th>Engine Cylinders</th>\n",
       "      <th>Transmission Type</th>\n",
       "      <th>Driven_Wheels</th>\n",
       "      <th>Number of Doors</th>\n",
       "      <th>Market Category</th>\n",
       "      <th>Vehicle Size</th>\n",
       "      <th>Vehicle Style</th>\n",
       "      <th>highway MPG</th>\n",
       "      <th>city mpg</th>\n",
       "      <th>Popularity</th>\n",
       "      <th>MSRP</th>\n",
       "    </tr>\n",
       "  </thead>\n",
       "  <tbody>\n",
       "    <tr>\n",
       "      <th>0</th>\n",
       "      <td>BMW</td>\n",
       "      <td>1 Series M</td>\n",
       "      <td>2011</td>\n",
       "      <td>premium unleaded (required)</td>\n",
       "      <td>335.0</td>\n",
       "      <td>6.0</td>\n",
       "      <td>MANUAL</td>\n",
       "      <td>rear wheel drive</td>\n",
       "      <td>2.0</td>\n",
       "      <td>Factory Tuner,Luxury,High-Performance</td>\n",
       "      <td>Compact</td>\n",
       "      <td>Coupe</td>\n",
       "      <td>26</td>\n",
       "      <td>19</td>\n",
       "      <td>3916</td>\n",
       "      <td>46135</td>\n",
       "    </tr>\n",
       "    <tr>\n",
       "      <th>1</th>\n",
       "      <td>BMW</td>\n",
       "      <td>1 Series</td>\n",
       "      <td>2011</td>\n",
       "      <td>premium unleaded (required)</td>\n",
       "      <td>300.0</td>\n",
       "      <td>6.0</td>\n",
       "      <td>MANUAL</td>\n",
       "      <td>rear wheel drive</td>\n",
       "      <td>2.0</td>\n",
       "      <td>Luxury,Performance</td>\n",
       "      <td>Compact</td>\n",
       "      <td>Convertible</td>\n",
       "      <td>28</td>\n",
       "      <td>19</td>\n",
       "      <td>3916</td>\n",
       "      <td>40650</td>\n",
       "    </tr>\n",
       "    <tr>\n",
       "      <th>2</th>\n",
       "      <td>BMW</td>\n",
       "      <td>1 Series</td>\n",
       "      <td>2011</td>\n",
       "      <td>premium unleaded (required)</td>\n",
       "      <td>300.0</td>\n",
       "      <td>6.0</td>\n",
       "      <td>MANUAL</td>\n",
       "      <td>rear wheel drive</td>\n",
       "      <td>2.0</td>\n",
       "      <td>Luxury,High-Performance</td>\n",
       "      <td>Compact</td>\n",
       "      <td>Coupe</td>\n",
       "      <td>28</td>\n",
       "      <td>20</td>\n",
       "      <td>3916</td>\n",
       "      <td>36350</td>\n",
       "    </tr>\n",
       "    <tr>\n",
       "      <th>3</th>\n",
       "      <td>BMW</td>\n",
       "      <td>1 Series</td>\n",
       "      <td>2011</td>\n",
       "      <td>premium unleaded (required)</td>\n",
       "      <td>230.0</td>\n",
       "      <td>6.0</td>\n",
       "      <td>MANUAL</td>\n",
       "      <td>rear wheel drive</td>\n",
       "      <td>2.0</td>\n",
       "      <td>Luxury,Performance</td>\n",
       "      <td>Compact</td>\n",
       "      <td>Coupe</td>\n",
       "      <td>28</td>\n",
       "      <td>18</td>\n",
       "      <td>3916</td>\n",
       "      <td>29450</td>\n",
       "    </tr>\n",
       "    <tr>\n",
       "      <th>4</th>\n",
       "      <td>BMW</td>\n",
       "      <td>1 Series</td>\n",
       "      <td>2011</td>\n",
       "      <td>premium unleaded (required)</td>\n",
       "      <td>230.0</td>\n",
       "      <td>6.0</td>\n",
       "      <td>MANUAL</td>\n",
       "      <td>rear wheel drive</td>\n",
       "      <td>2.0</td>\n",
       "      <td>Luxury</td>\n",
       "      <td>Compact</td>\n",
       "      <td>Convertible</td>\n",
       "      <td>28</td>\n",
       "      <td>18</td>\n",
       "      <td>3916</td>\n",
       "      <td>34500</td>\n",
       "    </tr>\n",
       "  </tbody>\n",
       "</table>\n",
       "</div>"
      ],
      "text/plain": [
       "  Make       Model  Year             Engine Fuel Type  Engine HP  \\\n",
       "0  BMW  1 Series M  2011  premium unleaded (required)      335.0   \n",
       "1  BMW    1 Series  2011  premium unleaded (required)      300.0   \n",
       "2  BMW    1 Series  2011  premium unleaded (required)      300.0   \n",
       "3  BMW    1 Series  2011  premium unleaded (required)      230.0   \n",
       "4  BMW    1 Series  2011  premium unleaded (required)      230.0   \n",
       "\n",
       "   Engine Cylinders Transmission Type     Driven_Wheels  Number of Doors  \\\n",
       "0               6.0            MANUAL  rear wheel drive              2.0   \n",
       "1               6.0            MANUAL  rear wheel drive              2.0   \n",
       "2               6.0            MANUAL  rear wheel drive              2.0   \n",
       "3               6.0            MANUAL  rear wheel drive              2.0   \n",
       "4               6.0            MANUAL  rear wheel drive              2.0   \n",
       "\n",
       "                         Market Category Vehicle Size Vehicle Style  \\\n",
       "0  Factory Tuner,Luxury,High-Performance      Compact         Coupe   \n",
       "1                     Luxury,Performance      Compact   Convertible   \n",
       "2                Luxury,High-Performance      Compact         Coupe   \n",
       "3                     Luxury,Performance      Compact         Coupe   \n",
       "4                                 Luxury      Compact   Convertible   \n",
       "\n",
       "   highway MPG  city mpg  Popularity   MSRP  \n",
       "0           26        19        3916  46135  \n",
       "1           28        19        3916  40650  \n",
       "2           28        20        3916  36350  \n",
       "3           28        18        3916  29450  \n",
       "4           28        18        3916  34500  "
      ]
     },
     "execution_count": 4,
     "metadata": {},
     "output_type": "execute_result"
    }
   ],
   "source": [
    "import pandas as pd\n",
    "df = pd.read_csv(url)\n",
    "df.head()"
   ]
  },
  {
   "cell_type": "code",
   "execution_count": 7,
   "id": "419ed088",
   "metadata": {
    "ExecuteTime": {
     "end_time": "2022-09-06T10:07:53.179655Z",
     "start_time": "2022-09-06T10:07:53.164655Z"
    }
   },
   "outputs": [
    {
     "name": "stdout",
     "output_type": "stream",
     "text": [
      "the number of rows = 11914\n"
     ]
    }
   ],
   "source": [
    "print(f\"the number of rows = {df.shape[0]}\")"
   ]
  },
  {
   "cell_type": "markdown",
   "id": "204036b3",
   "metadata": {},
   "source": [
    "## Question 3\n",
    "\n",
    "Who are the most popular car manufacturers (top-3) according to the dataset?\n",
    "\n",
    "* Chevrolet, Volkswagen, Toyota\n",
    "* Chevrolet, Ford, Toyota\n",
    "* Ford, Volkswagen, Toyota\n",
    "* Chevrolet, Ford, Volkswagen"
   ]
  },
  {
   "cell_type": "code",
   "execution_count": 15,
   "id": "1b3b816b",
   "metadata": {
    "ExecuteTime": {
     "end_time": "2022-09-06T10:16:32.910240Z",
     "start_time": "2022-09-06T10:16:32.900240Z"
    }
   },
   "outputs": [
    {
     "name": "stdout",
     "output_type": "stream",
     "text": [
      "top3 popular car manufactures : \n",
      " Index(['Chevrolet', 'Ford', 'Volkswagen'], dtype='object')\n"
     ]
    }
   ],
   "source": [
    "print(f\"top3 popular car manufactures : \\n {df['Make'].value_counts().index[:3]}\")"
   ]
  },
  {
   "cell_type": "markdown",
   "id": "c2284546",
   "metadata": {},
   "source": [
    "## Question 4\n",
    "\n",
    "What's the number of unique Audi car models in the dataset?\n",
    "\n",
    "* 3\n",
    "* 16\n",
    "* 26\n",
    "* 34"
   ]
  },
  {
   "cell_type": "code",
   "execution_count": 16,
   "id": "2a65f4c8",
   "metadata": {
    "ExecuteTime": {
     "end_time": "2022-09-06T10:18:56.874914Z",
     "start_time": "2022-09-06T10:18:56.851914Z"
    }
   },
   "outputs": [
    {
     "name": "stdout",
     "output_type": "stream",
     "text": [
      "the number of unique Audi car models in the dataset: 34\n"
     ]
    }
   ],
   "source": [
    "print(f\"the number of unique Audi car models in the dataset: {df['Model'][df['Make'] == 'Audi'].nunique()}\")"
   ]
  },
  {
   "cell_type": "markdown",
   "id": "39f15f7c",
   "metadata": {},
   "source": [
    "## Question 5\n",
    "How many columns in the dataset have missing values?\n",
    "\n",
    "* 5\n",
    "* 6\n",
    "* 7\n",
    "* 8 "
   ]
  },
  {
   "cell_type": "code",
   "execution_count": 20,
   "id": "06d4beb8",
   "metadata": {
    "ExecuteTime": {
     "end_time": "2022-09-06T10:43:54.801925Z",
     "start_time": "2022-09-06T10:43:54.766928Z"
    }
   },
   "outputs": [
    {
     "name": "stdout",
     "output_type": "stream",
     "text": [
      "5 columns in the dataset have missing values\n"
     ]
    }
   ],
   "source": [
    "print(f\"{len(df.isnull().sum()[df.isnull().sum() > 0].tolist())} columns in the dataset have missing values\")"
   ]
  },
  {
   "cell_type": "markdown",
   "id": "1a0714d4",
   "metadata": {},
   "source": [
    "## Question 6\n",
    "\n",
    "* Find the median value of \"Engine Cylinders\" column in the dataset.\n",
    "* Next, calculate the most frequent value of the same \"Engine Cylinders\".\n",
    "* Use the fillna method to fill the missing values in \"Engine Cylinders\" with the most frequent value from the previous step.\n",
    "* Now, calculate the median value of \"Engine Cylinders\" once again.\n",
    "\n",
    "Has it changed?\n",
    "\n",
    "Hint: refer to existing mode and median functions to complete the task.\n",
    "\n",
    "* Yes\n",
    "* No"
   ]
  },
  {
   "cell_type": "code",
   "execution_count": 24,
   "id": "6436dab4",
   "metadata": {
    "ExecuteTime": {
     "end_time": "2022-09-06T10:46:38.211644Z",
     "start_time": "2022-09-06T10:46:38.198642Z"
    }
   },
   "outputs": [
    {
     "name": "stdout",
     "output_type": "stream",
     "text": [
      "the median value of Engine Cylinders column in the dataset : 6.0\n"
     ]
    }
   ],
   "source": [
    "print(f\"the median value of Engine Cylinders column in the dataset : {df['Engine Cylinders'].median()}\")"
   ]
  },
  {
   "cell_type": "code",
   "execution_count": 26,
   "id": "338f22a3",
   "metadata": {
    "ExecuteTime": {
     "end_time": "2022-09-06T11:19:32.998439Z",
     "start_time": "2022-09-06T11:19:32.991440Z"
    }
   },
   "outputs": [
    {
     "name": "stdout",
     "output_type": "stream",
     "text": [
      "the most frequent value of Engine Cylinders column in the dataset : 4.0\n"
     ]
    }
   ],
   "source": [
    "print(f\"the most frequent value of Engine Cylinders column in the dataset : {df['Engine Cylinders'].mode()[0]}\")"
   ]
  },
  {
   "cell_type": "code",
   "execution_count": 27,
   "id": "807017e3",
   "metadata": {
    "ExecuteTime": {
     "end_time": "2022-09-06T11:19:42.786814Z",
     "start_time": "2022-09-06T11:19:42.774100Z"
    }
   },
   "outputs": [],
   "source": [
    "df['Engine Cylinders'] = df['Engine Cylinders'].fillna(df['Engine Cylinders'].mode()[0])"
   ]
  },
  {
   "cell_type": "code",
   "execution_count": 28,
   "id": "adb10280",
   "metadata": {
    "ExecuteTime": {
     "end_time": "2022-09-06T11:19:52.333098Z",
     "start_time": "2022-09-06T11:19:52.319100Z"
    }
   },
   "outputs": [
    {
     "name": "stdout",
     "output_type": "stream",
     "text": [
      "the median value of Engine Cylinders column in the dataset : 6.0\n"
     ]
    }
   ],
   "source": [
    "print(f\"the median value of Engine Cylinders column in the dataset : {df['Engine Cylinders'].median()}\")"
   ]
  },
  {
   "cell_type": "markdown",
   "id": "b2197780",
   "metadata": {},
   "source": [
    "* the mean value has not changed"
   ]
  },
  {
   "cell_type": "markdown",
   "id": "9eaaa8ed",
   "metadata": {},
   "source": [
    "## Question 7\n",
    "\n",
    "* Select all the \"Lotus\" cars from the dataset.\n",
    "* Select only columns \"Engine HP\", \"Engine Cylinders\".\n",
    "* Now drop all duplicated rows using drop_duplicates method (you should get a dataframe with 9 rows).\n",
    "* Get the underlying NumPy array. Let's call it X.\n",
    "* Compute matrix-matrix multiplication between the transpose of X and X. To get the transpose, use X.T. Let's call the result XTX.\n",
    "Invert XTX.\n",
    "* Create an array y with values [1100, 800, 750, 850, 1300, 1000, 1000, 1300, 800].\n",
    "* Multiply the inverse of XTX with the transpose of X, and then multiply the result by y. Call the result w.\n",
    "* What's the value of the first element of w?\n",
    "\n",
    "#### Note: You just implemented linear regression. We'll talk about it in the next lesson.\n",
    "\n",
    "* -0.0723\n",
    "* 4.5949\n",
    "* 31.6537\n",
    "* 63.5643"
   ]
  },
  {
   "cell_type": "markdown",
   "id": "ba371255",
   "metadata": {},
   "source": [
    "#### Select all the \"Lotus\" cars from the dataset."
   ]
  },
  {
   "cell_type": "code",
   "execution_count": 72,
   "id": "4856d49d",
   "metadata": {
    "ExecuteTime": {
     "end_time": "2022-09-06T15:14:02.276465Z",
     "start_time": "2022-09-06T15:14:02.258466Z"
    }
   },
   "outputs": [],
   "source": [
    "X = df[['Engine HP','Engine Cylinders']][df['Make'] == 'Lotus']"
   ]
  },
  {
   "cell_type": "code",
   "execution_count": 73,
   "id": "43b7f0ef",
   "metadata": {
    "ExecuteTime": {
     "end_time": "2022-09-06T15:14:03.325020Z",
     "start_time": "2022-09-06T15:14:03.315022Z"
    }
   },
   "outputs": [
    {
     "data": {
      "text/plain": [
       "(29, 2)"
      ]
     },
     "execution_count": 73,
     "metadata": {},
     "output_type": "execute_result"
    }
   ],
   "source": [
    "X.shape"
   ]
  },
  {
   "cell_type": "markdown",
   "id": "71cedaef",
   "metadata": {},
   "source": [
    "#### Now drop all duplicated rows using drop_duplicates method (you should get a dataframe with 9 rows)."
   ]
  },
  {
   "cell_type": "code",
   "execution_count": 74,
   "id": "1b0973af",
   "metadata": {
    "ExecuteTime": {
     "end_time": "2022-09-06T15:14:05.668673Z",
     "start_time": "2022-09-06T15:14:05.650672Z"
    }
   },
   "outputs": [],
   "source": [
    "X = X.drop_duplicates()"
   ]
  },
  {
   "cell_type": "code",
   "execution_count": 75,
   "id": "42193faa",
   "metadata": {
    "ExecuteTime": {
     "end_time": "2022-09-06T15:14:06.660084Z",
     "start_time": "2022-09-06T15:14:06.651070Z"
    }
   },
   "outputs": [
    {
     "data": {
      "text/plain": [
       "(9, 2)"
      ]
     },
     "execution_count": 75,
     "metadata": {},
     "output_type": "execute_result"
    }
   ],
   "source": [
    "X.shape"
   ]
  },
  {
   "cell_type": "markdown",
   "id": "1dbe63b4",
   "metadata": {},
   "source": [
    "#### Get the underlying NumPy array. Let's call it X."
   ]
  },
  {
   "cell_type": "code",
   "execution_count": 76,
   "id": "2e4367c0",
   "metadata": {
    "ExecuteTime": {
     "end_time": "2022-09-06T15:14:10.383350Z",
     "start_time": "2022-09-06T15:14:10.370985Z"
    }
   },
   "outputs": [],
   "source": [
    "X = X.values"
   ]
  },
  {
   "cell_type": "code",
   "execution_count": 77,
   "id": "f40e9e61",
   "metadata": {
    "ExecuteTime": {
     "end_time": "2022-09-06T15:14:12.884567Z",
     "start_time": "2022-09-06T15:14:12.865560Z"
    }
   },
   "outputs": [
    {
     "data": {
      "text/plain": [
       "numpy.ndarray"
      ]
     },
     "execution_count": 77,
     "metadata": {},
     "output_type": "execute_result"
    }
   ],
   "source": [
    "type(X)"
   ]
  },
  {
   "cell_type": "code",
   "execution_count": 78,
   "id": "eeb86a2e",
   "metadata": {
    "ExecuteTime": {
     "end_time": "2022-09-06T15:14:17.353179Z",
     "start_time": "2022-09-06T15:14:17.331135Z"
    }
   },
   "outputs": [
    {
     "data": {
      "text/plain": [
       "(2, 9)"
      ]
     },
     "execution_count": 78,
     "metadata": {},
     "output_type": "execute_result"
    }
   ],
   "source": [
    "X.T.shape"
   ]
  },
  {
   "cell_type": "markdown",
   "id": "35e01cb2",
   "metadata": {},
   "source": [
    "#### Compute matrix-matrix multiplication between the transpose of X and X. To get the transpose, use X.T. "
   ]
  },
  {
   "cell_type": "code",
   "execution_count": 79,
   "id": "9b42967a",
   "metadata": {
    "ExecuteTime": {
     "end_time": "2022-09-06T15:15:56.885015Z",
     "start_time": "2022-09-06T15:15:56.868047Z"
    }
   },
   "outputs": [],
   "source": [
    "XTX = X.T.dot(X)"
   ]
  },
  {
   "cell_type": "code",
   "execution_count": 80,
   "id": "cba6726c",
   "metadata": {
    "ExecuteTime": {
     "end_time": "2022-09-06T15:15:57.540914Z",
     "start_time": "2022-09-06T15:15:57.529911Z"
    }
   },
   "outputs": [
    {
     "data": {
      "text/plain": [
       "(2, 2)"
      ]
     },
     "execution_count": 80,
     "metadata": {},
     "output_type": "execute_result"
    }
   ],
   "source": [
    "XTX.shape"
   ]
  },
  {
   "cell_type": "markdown",
   "id": "e9c70ded",
   "metadata": {},
   "source": [
    "#### Create an array y with values [1100, 800, 750, 850, 1300, 1000, 1000, 1300, 800]."
   ]
  },
  {
   "cell_type": "code",
   "execution_count": 82,
   "id": "1988e2f7",
   "metadata": {
    "ExecuteTime": {
     "end_time": "2022-09-06T15:17:15.637589Z",
     "start_time": "2022-09-06T15:17:15.630589Z"
    }
   },
   "outputs": [],
   "source": [
    "y = np.array([1100, 800, 750, 850, 1300, 1000, 1000, 1300, 800])"
   ]
  },
  {
   "cell_type": "code",
   "execution_count": 83,
   "id": "0e9bd502",
   "metadata": {
    "ExecuteTime": {
     "end_time": "2022-09-06T15:17:16.167360Z",
     "start_time": "2022-09-06T15:17:16.154360Z"
    }
   },
   "outputs": [
    {
     "data": {
      "text/plain": [
       "(9,)"
      ]
     },
     "execution_count": 83,
     "metadata": {},
     "output_type": "execute_result"
    }
   ],
   "source": [
    "y.shape"
   ]
  },
  {
   "cell_type": "markdown",
   "id": "c9976348",
   "metadata": {},
   "source": [
    "#### Multiply the inverse of XTX with the transpose of X, and then multiply the result by y. Call the result w."
   ]
  },
  {
   "cell_type": "code",
   "execution_count": 84,
   "id": "c79926ad",
   "metadata": {
    "ExecuteTime": {
     "end_time": "2022-09-06T15:17:17.512401Z",
     "start_time": "2022-09-06T15:17:17.490535Z"
    }
   },
   "outputs": [],
   "source": [
    "XTX_inv = np.linalg.inv(XTX)\n",
    "w = XTX_inv.dot(X.T).dot(y)"
   ]
  },
  {
   "cell_type": "code",
   "execution_count": 85,
   "id": "d151be3d",
   "metadata": {
    "ExecuteTime": {
     "end_time": "2022-09-06T15:17:19.121445Z",
     "start_time": "2022-09-06T15:17:19.105447Z"
    }
   },
   "outputs": [
    {
     "data": {
      "text/plain": [
       "(2,)"
      ]
     },
     "execution_count": 85,
     "metadata": {},
     "output_type": "execute_result"
    }
   ],
   "source": [
    "w.shape"
   ]
  },
  {
   "cell_type": "code",
   "execution_count": 87,
   "id": "2c16595f",
   "metadata": {
    "ExecuteTime": {
     "end_time": "2022-09-06T15:17:37.037155Z",
     "start_time": "2022-09-06T15:17:37.026156Z"
    }
   },
   "outputs": [
    {
     "data": {
      "text/plain": [
       "array([  4.59494481, -63.56432501])"
      ]
     },
     "execution_count": 87,
     "metadata": {},
     "output_type": "execute_result"
    }
   ],
   "source": [
    "w"
   ]
  },
  {
   "cell_type": "markdown",
   "id": "26a27bf8",
   "metadata": {},
   "source": [
    "#### What's the value of the first element of w?"
   ]
  },
  {
   "cell_type": "code",
   "execution_count": 86,
   "id": "8aa4dd0f",
   "metadata": {
    "ExecuteTime": {
     "end_time": "2022-09-06T15:17:23.608895Z",
     "start_time": "2022-09-06T15:17:23.594360Z"
    }
   },
   "outputs": [
    {
     "data": {
      "text/plain": [
       "4.594944810094579"
      ]
     },
     "execution_count": 86,
     "metadata": {},
     "output_type": "execute_result"
    }
   ],
   "source": [
    "w[0]"
   ]
  },
  {
   "cell_type": "code",
   "execution_count": null,
   "id": "0a2fa0b4",
   "metadata": {},
   "outputs": [],
   "source": []
  }
 ],
 "metadata": {
  "kernelspec": {
   "display_name": "Python 3 (ipykernel)",
   "language": "python",
   "name": "python3"
  },
  "language_info": {
   "codemirror_mode": {
    "name": "ipython",
    "version": 3
   },
   "file_extension": ".py",
   "mimetype": "text/x-python",
   "name": "python",
   "nbconvert_exporter": "python",
   "pygments_lexer": "ipython3",
   "version": "3.9.13"
  }
 },
 "nbformat": 4,
 "nbformat_minor": 5
}
