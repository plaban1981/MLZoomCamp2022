{
 "cells": [
  {
   "cell_type": "code",
   "execution_count": 1,
   "metadata": {},
   "outputs": [],
   "source": [
    "#@ IMPORTING LIBRARIES AND DEPENDENCIES:\n",
    "import re\n",
    "import numpy as np\n",
    "import pandas as pd\n",
    "import seaborn as sns\n",
    "import xgboost as xgb\n",
    "import matplotlib.pyplot as plt\n",
    "from tqdm.auto import tqdm\n",
    "from sklearn.tree import DecisionTreeRegressor\n",
    "from sklearn.tree import export_text\n",
    "from sklearn.feature_extraction import DictVectorizer\n",
    "from sklearn.model_selection import train_test_split\n",
    "from sklearn.ensemble import RandomForestRegressor\n",
    "from sklearn.metrics import mean_squared_error\n",
    "\n",
    "%matplotlib inline"
   ]
  },
  {
   "cell_type": "markdown",
   "metadata": {},
   "source": [
    "Download Data"
   ]
  },
  {
   "cell_type": "code",
   "execution_count": 57,
   "metadata": {},
   "outputs": [],
   "source": [
    "url = \"https://raw.githubusercontent.com/alexeygrigorev/datasets/master/housing.csv\"\n",
    "select_cols = [\"longitude\", \"latitude\", \"housing_median_age\", \"total_rooms\", \"total_bedrooms\", \"population\", \"households\", \n",
    "               \"median_income\", \"median_house_value\", \"ocean_proximity\"]\n",
    "df = pd.read_csv(url, usecols=select_cols)\n",
    "df.total_bedrooms = df.total_bedrooms.fillna(0)"
   ]
  },
  {
   "cell_type": "code",
   "execution_count": 58,
   "metadata": {},
   "outputs": [
    {
     "data": {
      "text/html": [
       "<div>\n",
       "<style scoped>\n",
       "    .dataframe tbody tr th:only-of-type {\n",
       "        vertical-align: middle;\n",
       "    }\n",
       "\n",
       "    .dataframe tbody tr th {\n",
       "        vertical-align: top;\n",
       "    }\n",
       "\n",
       "    .dataframe thead th {\n",
       "        text-align: right;\n",
       "    }\n",
       "</style>\n",
       "<table border=\"1\" class=\"dataframe\">\n",
       "  <thead>\n",
       "    <tr style=\"text-align: right;\">\n",
       "      <th></th>\n",
       "      <th>longitude</th>\n",
       "      <th>latitude</th>\n",
       "      <th>housing_median_age</th>\n",
       "      <th>total_rooms</th>\n",
       "      <th>total_bedrooms</th>\n",
       "      <th>population</th>\n",
       "      <th>households</th>\n",
       "      <th>median_income</th>\n",
       "      <th>median_house_value</th>\n",
       "      <th>ocean_proximity</th>\n",
       "    </tr>\n",
       "  </thead>\n",
       "  <tbody>\n",
       "    <tr>\n",
       "      <th>0</th>\n",
       "      <td>-122.23</td>\n",
       "      <td>37.88</td>\n",
       "      <td>41.0</td>\n",
       "      <td>880.0</td>\n",
       "      <td>129.0</td>\n",
       "      <td>322.0</td>\n",
       "      <td>126.0</td>\n",
       "      <td>8.3252</td>\n",
       "      <td>452600.0</td>\n",
       "      <td>NEAR BAY</td>\n",
       "    </tr>\n",
       "    <tr>\n",
       "      <th>1</th>\n",
       "      <td>-122.22</td>\n",
       "      <td>37.86</td>\n",
       "      <td>21.0</td>\n",
       "      <td>7099.0</td>\n",
       "      <td>1106.0</td>\n",
       "      <td>2401.0</td>\n",
       "      <td>1138.0</td>\n",
       "      <td>8.3014</td>\n",
       "      <td>358500.0</td>\n",
       "      <td>NEAR BAY</td>\n",
       "    </tr>\n",
       "    <tr>\n",
       "      <th>2</th>\n",
       "      <td>-122.24</td>\n",
       "      <td>37.85</td>\n",
       "      <td>52.0</td>\n",
       "      <td>1467.0</td>\n",
       "      <td>190.0</td>\n",
       "      <td>496.0</td>\n",
       "      <td>177.0</td>\n",
       "      <td>7.2574</td>\n",
       "      <td>352100.0</td>\n",
       "      <td>NEAR BAY</td>\n",
       "    </tr>\n",
       "    <tr>\n",
       "      <th>3</th>\n",
       "      <td>-122.25</td>\n",
       "      <td>37.85</td>\n",
       "      <td>52.0</td>\n",
       "      <td>1274.0</td>\n",
       "      <td>235.0</td>\n",
       "      <td>558.0</td>\n",
       "      <td>219.0</td>\n",
       "      <td>5.6431</td>\n",
       "      <td>341300.0</td>\n",
       "      <td>NEAR BAY</td>\n",
       "    </tr>\n",
       "    <tr>\n",
       "      <th>4</th>\n",
       "      <td>-122.25</td>\n",
       "      <td>37.85</td>\n",
       "      <td>52.0</td>\n",
       "      <td>1627.0</td>\n",
       "      <td>280.0</td>\n",
       "      <td>565.0</td>\n",
       "      <td>259.0</td>\n",
       "      <td>3.8462</td>\n",
       "      <td>342200.0</td>\n",
       "      <td>NEAR BAY</td>\n",
       "    </tr>\n",
       "  </tbody>\n",
       "</table>\n",
       "</div>"
      ],
      "text/plain": [
       "   longitude  latitude  housing_median_age  total_rooms  total_bedrooms  \\\n",
       "0    -122.23     37.88                41.0        880.0           129.0   \n",
       "1    -122.22     37.86                21.0       7099.0          1106.0   \n",
       "2    -122.24     37.85                52.0       1467.0           190.0   \n",
       "3    -122.25     37.85                52.0       1274.0           235.0   \n",
       "4    -122.25     37.85                52.0       1627.0           280.0   \n",
       "\n",
       "   population  households  median_income  median_house_value ocean_proximity  \n",
       "0       322.0       126.0         8.3252            452600.0        NEAR BAY  \n",
       "1      2401.0      1138.0         8.3014            358500.0        NEAR BAY  \n",
       "2       496.0       177.0         7.2574            352100.0        NEAR BAY  \n",
       "3       558.0       219.0         5.6431            341300.0        NEAR BAY  \n",
       "4       565.0       259.0         3.8462            342200.0        NEAR BAY  "
      ]
     },
     "execution_count": 58,
     "metadata": {},
     "output_type": "execute_result"
    }
   ],
   "source": [
    "df.head()"
   ]
  },
  {
   "cell_type": "code",
   "execution_count": 59,
   "metadata": {},
   "outputs": [
    {
     "name": "stdout",
     "output_type": "stream",
     "text": [
      "<class 'pandas.core.frame.DataFrame'>\n",
      "RangeIndex: 20640 entries, 0 to 20639\n",
      "Data columns (total 10 columns):\n",
      " #   Column              Non-Null Count  Dtype  \n",
      "---  ------              --------------  -----  \n",
      " 0   longitude           20640 non-null  float64\n",
      " 1   latitude            20640 non-null  float64\n",
      " 2   housing_median_age  20640 non-null  float64\n",
      " 3   total_rooms         20640 non-null  float64\n",
      " 4   total_bedrooms      20640 non-null  float64\n",
      " 5   population          20640 non-null  float64\n",
      " 6   households          20640 non-null  float64\n",
      " 7   median_income       20640 non-null  float64\n",
      " 8   median_house_value  20640 non-null  float64\n",
      " 9   ocean_proximity     20640 non-null  object \n",
      "dtypes: float64(9), object(1)\n",
      "memory usage: 1.6+ MB\n"
     ]
    }
   ],
   "source": [
    "df.info()"
   ]
  },
  {
   "cell_type": "code",
   "execution_count": 60,
   "metadata": {},
   "outputs": [
    {
     "data": {
      "text/plain": [
       "array(['NEAR BAY', '<1H OCEAN', 'INLAND', 'NEAR OCEAN', 'ISLAND'],\n",
       "      dtype=object)"
      ]
     },
     "execution_count": 60,
     "metadata": {},
     "output_type": "execute_result"
    }
   ],
   "source": [
    "df['ocean_proximity'].unique()"
   ]
  },
  {
   "cell_type": "code",
   "execution_count": 61,
   "metadata": {},
   "outputs": [
    {
     "data": {
      "text/plain": [
       "Series([], dtype: int64)"
      ]
     },
     "execution_count": 61,
     "metadata": {},
     "output_type": "execute_result"
    }
   ],
   "source": [
    "df.isnull().sum()[df.isnull().sum() > 0]"
   ]
  },
  {
   "cell_type": "code",
   "execution_count": 62,
   "metadata": {},
   "outputs": [],
   "source": [
    "from sklearn.preprocessing import LabelEncoder\n",
    "lb = LabelEncoder()\n"
   ]
  },
  {
   "cell_type": "markdown",
   "metadata": {},
   "source": [
    "* Apply the log transform to median_house_value.\n",
    "* Do train/validation/test split with 60%/20%/20% distribution.\n",
    "* Use the train_test_split function and set the random_state parameter to 1."
   ]
  },
  {
   "cell_type": "code",
   "execution_count": 63,
   "metadata": {},
   "outputs": [
    {
     "data": {
      "text/plain": [
       "<AxesSubplot:>"
      ]
     },
     "execution_count": 63,
     "metadata": {},
     "output_type": "execute_result"
    },
    {
     "data": {
      "image/png": "[encoded data removed]",
      "text/plain": [
       "<Figure size 432x288 with 1 Axes>"
      ]
     },
     "metadata": {
      "needs_background": "light"
     },
     "output_type": "display_data"
    }
   ],
   "source": [
    "df['median_house_value'].hist()"
   ]
  },
  {
   "cell_type": "code",
   "execution_count": 64,
   "metadata": {},
   "outputs": [
    {
     "data": {
      "text/plain": [
       "<AxesSubplot:>"
      ]
     },
     "execution_count": 64,
     "metadata": {},
     "output_type": "execute_result"
    },
    {
     "data": {
      "image/png": "[encoded data removed]",
      "text/plain": [
       "<Figure size 432x288 with 1 Axes>"
      ]
     },
     "metadata": {
      "needs_background": "light"
     },
     "output_type": "display_data"
    }
   ],
   "source": [
    "np.log1p(df['median_house_value']).hist()"
   ]
  },
  {
   "cell_type": "code",
   "execution_count": 65,
   "metadata": {},
   "outputs": [],
   "source": [
    "df['median_house_value'] = np.log1p(df['median_house_value'])"
   ]
  },
  {
   "cell_type": "markdown",
   "metadata": {},
   "source": [
    "#@ SPLITTING THE DATASET FOR TRAINING AND TEST:"
   ]
  },
  {
   "cell_type": "code",
   "execution_count": 27,
   "metadata": {},
   "outputs": [],
   "source": [
    "X = df.drop('median_house_value', axis=1)\n",
    "Y = df['median_house_value']"
   ]
  },
  {
   "cell_type": "code",
   "execution_count": 66,
   "metadata": {},
   "outputs": [],
   "source": [
    "X_train,X_test= train_test_split(df,test_size=0.2,random_state=1)\n",
    "X_train,X_val= train_test_split(X_train,test_size=0.2,random_state=1)"
   ]
  },
  {
   "cell_type": "code",
   "execution_count": 67,
   "metadata": {},
   "outputs": [
    {
     "data": {
      "text/plain": [
       "((13209, 10), (4128, 10), (3303, 10))"
      ]
     },
     "execution_count": 67,
     "metadata": {},
     "output_type": "execute_result"
    }
   ],
   "source": [
    "X_train.shape,X_test.shape,X_val.shape"
   ]
  },
  {
   "cell_type": "code",
   "execution_count": 68,
   "metadata": {},
   "outputs": [],
   "source": [
    "y_train = X_train['median_house_value']\n",
    "y_val = X_val['median_house_value']\n",
    "y_test = X_test['median_house_value']"
   ]
  },
  {
   "cell_type": "code",
   "execution_count": 69,
   "metadata": {},
   "outputs": [],
   "source": [
    "X_train = X_train.drop('median_house_value', axis=1)\n",
    "X_val = X_val.drop('median_house_value', axis=1)\n",
    "X_test = X_test.drop('median_house_value', axis=1)"
   ]
  },
  {
   "cell_type": "code",
   "execution_count": 70,
   "metadata": {},
   "outputs": [
    {
     "data": {
      "text/plain": [
       "((13209, 9), (4128, 9), (3303, 9))"
      ]
     },
     "execution_count": 70,
     "metadata": {},
     "output_type": "execute_result"
    }
   ],
   "source": [
    "X_train.shape,X_test.shape,X_val.shape"
   ]
  },
  {
   "cell_type": "code",
   "execution_count": 71,
   "metadata": {},
   "outputs": [],
   "source": [
    "X_train['ocean_proximity'] = lb.fit_transform(X_train['ocean_proximity'])\n"
   ]
  },
  {
   "cell_type": "code",
   "execution_count": 72,
   "metadata": {},
   "outputs": [
    {
     "data": {
      "text/plain": [
       "array(['<1H OCEAN', 'INLAND', 'ISLAND', 'NEAR BAY', 'NEAR OCEAN'],\n",
       "      dtype=object)"
      ]
     },
     "execution_count": 72,
     "metadata": {},
     "output_type": "execute_result"
    }
   ],
   "source": [
    "lb.classes_"
   ]
  },
  {
   "cell_type": "code",
   "execution_count": 73,
   "metadata": {},
   "outputs": [],
   "source": [
    "X_val['ocean_proximity'] = lb.transform(X_val['ocean_proximity'])\n",
    "X_test['ocean_proximity'] = lb.transform(X_test['ocean_proximity'])"
   ]
  },
  {
   "cell_type": "markdown",
   "metadata": {},
   "source": [
    "#@ IMPLEMENTATION OF DICTVECTORIZER:"
   ]
  },
  {
   "cell_type": "markdown",
   "metadata": {},
   "source": [
    "* We will use DictVectorizer to turn train and validation into matrices."
   ]
  },
  {
   "cell_type": "code",
   "execution_count": 74,
   "metadata": {},
   "outputs": [],
   "source": [
    "columns =  X_train.columns.tolist()"
   ]
  },
  {
   "cell_type": "code",
   "execution_count": 75,
   "metadata": {},
   "outputs": [
    {
     "data": {
      "text/plain": [
       "['longitude',\n",
       " 'latitude',\n",
       " 'housing_median_age',\n",
       " 'total_rooms',\n",
       " 'total_bedrooms',\n",
       " 'population',\n",
       " 'households',\n",
       " 'median_income',\n",
       " 'ocean_proximity']"
      ]
     },
     "execution_count": 75,
     "metadata": {},
     "output_type": "execute_result"
    }
   ],
   "source": [
    "columns"
   ]
  },
  {
   "cell_type": "code",
   "execution_count": 80,
   "metadata": {},
   "outputs": [],
   "source": [
    "train_dicts = X_train[columns].to_dict(orient='records')\n",
    "dv = DictVectorizer(sparse=True)\n",
    "x_train = dv.fit_transform(train_dicts)\n",
    "#\n",
    "val_dicts = X_val[columns].to_dict(orient='records')\n",
    "x_val = dv.transform(val_dicts)"
   ]
  },
  {
   "cell_type": "code",
   "execution_count": 81,
   "metadata": {},
   "outputs": [
    {
     "data": {
      "text/plain": [
       "(13209, 9)"
      ]
     },
     "execution_count": 81,
     "metadata": {},
     "output_type": "execute_result"
    }
   ],
   "source": [
    "x_train.shape"
   ]
  },
  {
   "cell_type": "markdown",
   "metadata": {},
   "source": [
    "## Question 1\n",
    "\n",
    "Let's train a decision tree regressor to predict the median_house_value variable.\n",
    "\n",
    "Train a model with max_depth=1."
   ]
  },
  {
   "cell_type": "code",
   "execution_count": 82,
   "metadata": {},
   "outputs": [
    {
     "data": {
      "text/plain": [
       "DecisionTreeRegressor(max_depth=1)"
      ]
     },
     "execution_count": 82,
     "metadata": {},
     "output_type": "execute_result"
    }
   ],
   "source": [
    "#@ TRAINING THE REGRESSION MODEL:\n",
    "dt = DecisionTreeRegressor(max_depth =1)\n",
    "dt.fit(x_train,y_train)"
   ]
  },
  {
   "cell_type": "markdown",
   "metadata": {},
   "source": [
    "#@ INSPECTION:\n",
    "* Which feature is used for splitting the data?"
   ]
  },
  {
   "cell_type": "code",
   "execution_count": 84,
   "metadata": {},
   "outputs": [
    {
     "name": "stdout",
     "output_type": "stream",
     "text": [
      "|--- total_bedrooms <= 4\n",
      "|   |--- value: [12]\n",
      "|--- total_bedrooms >  4\n",
      "|   |--- value: [12]\n",
      "\n"
     ]
    }
   ],
   "source": [
    "r = export_text(dt, feature_names=columns,decimals=0, show_weights=True)\n",
    "print(r)"
   ]
  },
  {
   "cell_type": "markdown",
   "metadata": {},
   "source": [
    "* Feature used for split : **total_bedrooms**"
   ]
  },
  {
   "cell_type": "markdown",
   "metadata": {},
   "source": [
    "# Question 2\n",
    "\n",
    "* Train a random forest model with these parameters:\n",
    "\n",
    "        - n_estimators=10\n",
    "        - random_state=1\n",
    "        - n_jobs=-1 (optional-to make training faster)"
   ]
  },
  {
   "cell_type": "code",
   "execution_count": 88,
   "metadata": {},
   "outputs": [
    {
     "data": {
      "text/plain": [
       "RandomForestRegressor(n_estimators=10, n_jobs=-1, random_state=1)"
      ]
     },
     "execution_count": 88,
     "metadata": {},
     "output_type": "execute_result"
    }
   ],
   "source": [
    "#@ TRAINING RANDOM FOREST MODEL:\n",
    "rf = RandomForestRegressor(n_estimators=10,\n",
    "                           random_state=1,\n",
    "                           n_jobs=-1)\n",
    "\n",
    "rf.fit(x_train,y_train)"
   ]
  },
  {
   "cell_type": "code",
   "execution_count": 89,
   "metadata": {},
   "outputs": [
    {
     "name": "stdout",
     "output_type": "stream",
     "text": [
      "Mean squared error = 0.24680701770998806\n"
     ]
    }
   ],
   "source": [
    "#@ CALCULATING MEAN SQUARED ERROR:\n",
    "y_pred = rf.predict(x_val)\n",
    "print(f\"Mean squared error = {np.sqrt(mean_squared_error(y_pred,y_val))}\")"
   ]
  },
  {
   "cell_type": "markdown",
   "metadata": {},
   "source": [
    "# Question 3\n",
    "\n",
    "#### Now, let's experiment with the n_estimators parameter.\n",
    "\n",
    "* Try different values of this parameter from 10 to 200 with step 10.\n",
    "* Set random_state to 1.\n",
    "* Evaluate the model on the validation dataset."
   ]
  },
  {
   "cell_type": "code",
   "execution_count": 90,
   "metadata": {},
   "outputs": [
    {
     "name": "stdout",
     "output_type": "stream",
     "text": [
      "Mean squared error for n_estimator :10 = 0.24680701770998806\n",
      "Mean squared error for n_estimator :20 = 0.23947743650412634\n",
      "Mean squared error for n_estimator :30 = 0.2352382200826087\n",
      "Mean squared error for n_estimator :40 = 0.23449602462266284\n",
      "Mean squared error for n_estimator :50 = 0.23404925508178062\n",
      "Mean squared error for n_estimator :60 = 0.23298228427169954\n",
      "Mean squared error for n_estimator :70 = 0.2325458153528997\n",
      "Mean squared error for n_estimator :80 = 0.2322109206362102\n",
      "Mean squared error for n_estimator :90 = 0.2319432262377783\n",
      "Mean squared error for n_estimator :100 = 0.23145737065165095\n",
      "Mean squared error for n_estimator :110 = 0.23167895389751614\n",
      "Mean squared error for n_estimator :120 = 0.2315413127749453\n",
      "Mean squared error for n_estimator :130 = 0.23125807196499124\n",
      "Mean squared error for n_estimator :140 = 0.23141389513657837\n",
      "Mean squared error for n_estimator :150 = 0.2314705967135564\n",
      "Mean squared error for n_estimator :160 = 0.2313998828782527\n",
      "Mean squared error for n_estimator :170 = 0.23149600474004917\n",
      "Mean squared error for n_estimator :180 = 0.2315176475708425\n",
      "Mean squared error for n_estimator :190 = 0.2315682450287665\n"
     ]
    }
   ],
   "source": [
    "for estimator in range(10,200,10):\n",
    "    rf = RandomForestRegressor(n_estimators=estimator,\n",
    "                           random_state=1,\n",
    "                           n_jobs=-1)\n",
    "    rf.fit(x_train,y_train)\n",
    "    y_pred = rf.predict(x_val)\n",
    "    print(f\"Mean squared error for n_estimator :{estimator} = {np.sqrt(mean_squared_error(y_pred,y_val))}\")\n",
    "    "
   ]
  },
  {
   "cell_type": "markdown",
   "metadata": {},
   "source": [
    "* After which value of n_estimators does RMSE stop improving?\n",
    "\n",
    "* Answer: 100"
   ]
  },
  {
   "cell_type": "markdown",
   "metadata": {},
   "source": [
    "# Question 4\n",
    "\n",
    "#### Let's select the best max_depth:\n",
    "\n",
    "* Try different values of max_depth: [10, 15, 20, 25].\n",
    "* For each of these values, try different values of n_estimators from 10 till 200 (with step 10).\n",
    "* Fix the random seed: random_state=1."
   ]
  },
  {
   "cell_type": "code",
   "execution_count": 91,
   "metadata": {},
   "outputs": [
    {
     "name": "stdout",
     "output_type": "stream",
     "text": [
      "Mean squared error for max_depth: 10 n_estimator :10 = 0.2561665566824039\n",
      "Mean squared error for max_depth: 10 n_estimator :20 = 0.2516328707632263\n",
      "Mean squared error for max_depth: 10 n_estimator :30 = 0.24919139854630012\n",
      "Mean squared error for max_depth: 10 n_estimator :40 = 0.24833949644709177\n",
      "Mean squared error for max_depth: 10 n_estimator :50 = 0.24848107482909695\n",
      "Mean squared error for max_depth: 10 n_estimator :60 = 0.24802599010666418\n",
      "Mean squared error for max_depth: 10 n_estimator :70 = 0.24768190030543352\n",
      "Mean squared error for max_depth: 10 n_estimator :80 = 0.2472944847323516\n",
      "Mean squared error for max_depth: 10 n_estimator :90 = 0.24713295464342017\n",
      "Mean squared error for max_depth: 10 n_estimator :100 = 0.24690885799263268\n",
      "Mean squared error for max_depth: 10 n_estimator :110 = 0.24709169796899946\n",
      "Mean squared error for max_depth: 10 n_estimator :120 = 0.24696072724955112\n",
      "Mean squared error for max_depth: 10 n_estimator :130 = 0.246858743265845\n",
      "Mean squared error for max_depth: 10 n_estimator :140 = 0.2469307289091148\n",
      "Mean squared error for max_depth: 10 n_estimator :150 = 0.24698276113530013\n",
      "Mean squared error for max_depth: 10 n_estimator :160 = 0.2468271608554267\n",
      "Mean squared error for max_depth: 10 n_estimator :170 = 0.24683768568783046\n",
      "Mean squared error for max_depth: 10 n_estimator :180 = 0.246831954028384\n",
      "Mean squared error for max_depth: 10 n_estimator :190 = 0.2467797675928582\n",
      "Mean squared error for max_depth: 15 n_estimator :10 = 0.24834921084485637\n",
      "Mean squared error for max_depth: 15 n_estimator :20 = 0.24097607004572733\n",
      "Mean squared error for max_depth: 15 n_estimator :30 = 0.2365871053505492\n",
      "Mean squared error for max_depth: 15 n_estimator :40 = 0.2358337917083045\n",
      "Mean squared error for max_depth: 15 n_estimator :50 = 0.23555444051805943\n",
      "Mean squared error for max_depth: 15 n_estimator :60 = 0.23456712277200645\n",
      "Mean squared error for max_depth: 15 n_estimator :70 = 0.23433990727948437\n",
      "Mean squared error for max_depth: 15 n_estimator :80 = 0.234070130305941\n",
      "Mean squared error for max_depth: 15 n_estimator :90 = 0.23386790785419523\n",
      "Mean squared error for max_depth: 15 n_estimator :100 = 0.2333342910083881\n",
      "Mean squared error for max_depth: 15 n_estimator :110 = 0.23337296676279162\n",
      "Mean squared error for max_depth: 15 n_estimator :120 = 0.23319593457239243\n",
      "Mean squared error for max_depth: 15 n_estimator :130 = 0.23291388575679725\n",
      "Mean squared error for max_depth: 15 n_estimator :140 = 0.23303901092146143\n",
      "Mean squared error for max_depth: 15 n_estimator :150 = 0.23304993484114755\n",
      "Mean squared error for max_depth: 15 n_estimator :160 = 0.23301913116823902\n",
      "Mean squared error for max_depth: 15 n_estimator :170 = 0.2330707638422002\n",
      "Mean squared error for max_depth: 15 n_estimator :180 = 0.23306003742845977\n",
      "Mean squared error for max_depth: 15 n_estimator :190 = 0.23306814736461065\n",
      "Mean squared error for max_depth: 20 n_estimator :10 = 0.24677035323863977\n",
      "Mean squared error for max_depth: 20 n_estimator :20 = 0.23933438288501918\n",
      "Mean squared error for max_depth: 20 n_estimator :30 = 0.23525218645548387\n",
      "Mean squared error for max_depth: 20 n_estimator :40 = 0.23439074892517875\n",
      "Mean squared error for max_depth: 20 n_estimator :50 = 0.23387620033216672\n",
      "Mean squared error for max_depth: 20 n_estimator :60 = 0.23282105906795852\n",
      "Mean squared error for max_depth: 20 n_estimator :70 = 0.23258853235125518\n",
      "Mean squared error for max_depth: 20 n_estimator :80 = 0.2322624320675388\n",
      "Mean squared error for max_depth: 20 n_estimator :90 = 0.2323361367819721\n",
      "Mean squared error for max_depth: 20 n_estimator :100 = 0.23179615492986327\n",
      "Mean squared error for max_depth: 20 n_estimator :110 = 0.2318910836630091\n",
      "Mean squared error for max_depth: 20 n_estimator :120 = 0.23164232482771763\n",
      "Mean squared error for max_depth: 20 n_estimator :130 = 0.23153849005310023\n",
      "Mean squared error for max_depth: 20 n_estimator :140 = 0.2315603590789389\n",
      "Mean squared error for max_depth: 20 n_estimator :150 = 0.2315573501447636\n",
      "Mean squared error for max_depth: 20 n_estimator :160 = 0.23152645505993594\n",
      "Mean squared error for max_depth: 20 n_estimator :170 = 0.2317015499872959\n",
      "Mean squared error for max_depth: 20 n_estimator :180 = 0.2316349690925948\n",
      "Mean squared error for max_depth: 20 n_estimator :190 = 0.23163616241892404\n",
      "Mean squared error for max_depth: 25 n_estimator :10 = 0.24706641193645382\n",
      "Mean squared error for max_depth: 25 n_estimator :20 = 0.23899932543625846\n",
      "Mean squared error for max_depth: 25 n_estimator :30 = 0.23476822468141076\n",
      "Mean squared error for max_depth: 25 n_estimator :40 = 0.23430099669055351\n",
      "Mean squared error for max_depth: 25 n_estimator :50 = 0.23406074909004715\n",
      "Mean squared error for max_depth: 25 n_estimator :60 = 0.23300549241462823\n",
      "Mean squared error for max_depth: 25 n_estimator :70 = 0.23264879860833582\n",
      "Mean squared error for max_depth: 25 n_estimator :80 = 0.23244892578066123\n",
      "Mean squared error for max_depth: 25 n_estimator :90 = 0.23217304948727022\n",
      "Mean squared error for max_depth: 25 n_estimator :100 = 0.23161610797358667\n",
      "Mean squared error for max_depth: 25 n_estimator :110 = 0.2317835846493944\n",
      "Mean squared error for max_depth: 25 n_estimator :120 = 0.2316640188703582\n",
      "Mean squared error for max_depth: 25 n_estimator :130 = 0.2314494321275346\n",
      "Mean squared error for max_depth: 25 n_estimator :140 = 0.231550071621698\n",
      "Mean squared error for max_depth: 25 n_estimator :150 = 0.2316887461342213\n",
      "Mean squared error for max_depth: 25 n_estimator :160 = 0.23160626131944198\n",
      "Mean squared error for max_depth: 25 n_estimator :170 = 0.23166272992120007\n",
      "Mean squared error for max_depth: 25 n_estimator :180 = 0.23162923076930225\n",
      "Mean squared error for max_depth: 25 n_estimator :190 = 0.23163312188879193\n"
     ]
    }
   ],
   "source": [
    "for depth  in [10,15,20,25]:   \n",
    "    for estimator in range(10,200,10):\n",
    "        rf = RandomForestRegressor(max_depth=depth,\n",
    "                                     n_estimators=estimator,\n",
    "                                    random_state=1,\n",
    "                                    n_jobs=-1)\n",
    "        rf.fit(x_train,y_train)\n",
    "        y_pred = rf.predict(x_val)\n",
    "        print(f\"Mean squared error for max_depth: {depth} n_estimator :{estimator} = {np.sqrt(mean_squared_error(y_pred,y_val))}\")"
   ]
  },
  {
   "cell_type": "markdown",
   "metadata": {},
   "source": [
    "* What's the best max_depth:\n",
    "\n",
    "* Answer: 20"
   ]
  },
  {
   "cell_type": "markdown",
   "metadata": {},
   "source": [
    "# Question 5\n",
    "\n",
    "* We can extract feature importance information from tree-based models.\n",
    "\n",
    "* At each step of the decision tree learning algorith, it finds the best split. When doint it, we can calculate \"gain\" - the reduction in impurity before and after the split. This gain is quite useful in understanding what are the imporatant features for tree-based models.\n",
    "\n",
    "* In Scikit-Learn, tree-based models contain this information in the feature_importances_ field.\n",
    "\n",
    "*For this homework question, we'll find the most important feature:\n",
    "\n",
    "* Train the model with these parametes:\n",
    "\n",
    "        - n_estimators=10,\n",
    "        - max_depth=20,\n",
    "        - random_state=1,\n",
    "        - n_jobs=-1 (optional)\n",
    "* Get the feature importance information from this model"
   ]
  },
  {
   "cell_type": "code",
   "execution_count": 92,
   "metadata": {},
   "outputs": [
    {
     "name": "stdout",
     "output_type": "stream",
     "text": [
      "[0.02048543 0.03782731 0.10498295 0.09726556 0.48536074 0.18336421\n",
      " 0.02979307 0.0185275  0.02239322]\n"
     ]
    }
   ],
   "source": [
    "rf = RandomForestRegressor(n_estimators=10,\n",
    "                           max_depth=20,\n",
    "                           random_state=1,\n",
    "                           n_jobs=-1)\n",
    "rf.fit(x_train,y_train)\n",
    "print(rf.feature_importances_)"
   ]
  },
  {
   "cell_type": "code",
   "execution_count": 93,
   "metadata": {},
   "outputs": [],
   "source": [
    "fi = pd.DataFrame({'feature': dv.feature_names_, 'importance': rf.feature_importances_})"
   ]
  },
  {
   "cell_type": "code",
   "execution_count": 95,
   "metadata": {},
   "outputs": [
    {
     "data": {
      "text/html": [
       "<div>\n",
       "<style scoped>\n",
       "    .dataframe tbody tr th:only-of-type {\n",
       "        vertical-align: middle;\n",
       "    }\n",
       "\n",
       "    .dataframe tbody tr th {\n",
       "        vertical-align: top;\n",
       "    }\n",
       "\n",
       "    .dataframe thead th {\n",
       "        text-align: right;\n",
       "    }\n",
       "</style>\n",
       "<table border=\"1\" class=\"dataframe\">\n",
       "  <thead>\n",
       "    <tr style=\"text-align: right;\">\n",
       "      <th></th>\n",
       "      <th>feature</th>\n",
       "      <th>importance</th>\n",
       "    </tr>\n",
       "  </thead>\n",
       "  <tbody>\n",
       "    <tr>\n",
       "      <th>4</th>\n",
       "      <td>median_income</td>\n",
       "      <td>0.485361</td>\n",
       "    </tr>\n",
       "    <tr>\n",
       "      <th>5</th>\n",
       "      <td>ocean_proximity</td>\n",
       "      <td>0.183364</td>\n",
       "    </tr>\n",
       "    <tr>\n",
       "      <th>2</th>\n",
       "      <td>latitude</td>\n",
       "      <td>0.104983</td>\n",
       "    </tr>\n",
       "    <tr>\n",
       "      <th>3</th>\n",
       "      <td>longitude</td>\n",
       "      <td>0.097266</td>\n",
       "    </tr>\n",
       "    <tr>\n",
       "      <th>1</th>\n",
       "      <td>housing_median_age</td>\n",
       "      <td>0.037827</td>\n",
       "    </tr>\n",
       "    <tr>\n",
       "      <th>6</th>\n",
       "      <td>population</td>\n",
       "      <td>0.029793</td>\n",
       "    </tr>\n",
       "    <tr>\n",
       "      <th>8</th>\n",
       "      <td>total_rooms</td>\n",
       "      <td>0.022393</td>\n",
       "    </tr>\n",
       "    <tr>\n",
       "      <th>0</th>\n",
       "      <td>households</td>\n",
       "      <td>0.020485</td>\n",
       "    </tr>\n",
       "    <tr>\n",
       "      <th>7</th>\n",
       "      <td>total_bedrooms</td>\n",
       "      <td>0.018528</td>\n",
       "    </tr>\n",
       "  </tbody>\n",
       "</table>\n",
       "</div>"
      ],
      "text/plain": [
       "              feature  importance\n",
       "4       median_income    0.485361\n",
       "5     ocean_proximity    0.183364\n",
       "2            latitude    0.104983\n",
       "3           longitude    0.097266\n",
       "1  housing_median_age    0.037827\n",
       "6          population    0.029793\n",
       "8         total_rooms    0.022393\n",
       "0          households    0.020485\n",
       "7      total_bedrooms    0.018528"
      ]
     },
     "execution_count": 95,
     "metadata": {},
     "output_type": "execute_result"
    }
   ],
   "source": [
    "fi = fi.sort_values(by='importance',ascending=False)\n",
    "fi"
   ]
  },
  {
   "cell_type": "markdown",
   "metadata": {},
   "source": [
    "* What's the most important feature?\n",
    "\n",
    "* Answer: **median_income**"
   ]
  },
  {
   "cell_type": "markdown",
   "metadata": {},
   "source": [
    "# Question 6\n",
    "\n",
    "* Now let's train an XGBoost model! For this question, we'll tune the eta parameter:\n",
    "\n",
    "* Install XGBoost.\n",
    "* Create DMatrix for train and validation\n",
    "* Create a watchlist\n",
    "* Train a model with these parameters for 100 rounds:\n",
    "\n",
    "    - xgb_params = {  \n",
    "    'eta': 0.3,  \n",
    "    'max_depth': 6,  \n",
    "    'min_child_weight': 1,  \n",
    "    'objective': 'reg:squarederror',\n",
    "    'nthread': 8,\n",
    "    'seed': 1,\n",
    "    'verbosity': 1,\n",
    "}"
   ]
  },
  {
   "cell_type": "code",
   "execution_count": 97,
   "metadata": {},
   "outputs": [
    {
     "name": "stdout",
     "output_type": "stream",
     "text": [
      "RMSE :  0.228872\n"
     ]
    }
   ],
   "source": [
    "import xgboost as xgb\n",
    "#@ CREATING THE DMARTIX:\n",
    "features = dv.feature_names_\n",
    "\n",
    "regex = re.compile(r\"<\", re.IGNORECASE)\n",
    "features = [regex.sub(\"_\", col) if any(x in str(col) for x in set(('[', ']', '<'))) else col for col in features]\n",
    "\n",
    "dtrain = xgb.DMatrix(X_train, label=y_train, feature_names=features)\n",
    "dval = xgb.DMatrix(X_val, label=y_val, feature_names=features)\n",
    "# Parameter dictionary specifying base learner\n",
    "param =  {  \n",
    "    'eta': 0.3,  \n",
    "    'max_depth': 6,  \n",
    "    'min_child_weight': 1,  \n",
    "\n",
    "    'objective': 'reg:squarederror',\n",
    "    'nthread': 8,\n",
    "\n",
    "    'seed': 1,\n",
    "    'verbosity': 1,\n",
    "}\n",
    "  \n",
    "xgb_r = xgb.train(params = param, dtrain = dtrain, num_boost_round = 100)\n",
    "pred = xgb_r.predict(dval)\n",
    "  \n",
    "# RMSE Computation\n",
    "rmse = np.sqrt(mean_squared_error(y_val,pred))\n",
    "print(\"RMSE : % f\" %(rmse))"
   ]
  },
  {
   "cell_type": "code",
   "execution_count": 100,
   "metadata": {},
   "outputs": [
    {
     "data": {
      "text/plain": [
       "['households',\n",
       " 'housing_median_age',\n",
       " 'latitude',\n",
       " 'longitude',\n",
       " 'median_income',\n",
       " 'ocean_proximity',\n",
       " 'population',\n",
       " 'total_bedrooms',\n",
       " 'total_rooms']"
      ]
     },
     "execution_count": 100,
     "metadata": {},
     "output_type": "execute_result"
    }
   ],
   "source": [
    "features"
   ]
  },
  {
   "cell_type": "markdown",
   "metadata": {},
   "source": [
    "* Now, change eta first to 0.1 and then to 0.01.\n",
    "* Which eta leads to the best RMSE score on the validation dataset?\n",
    "\n"
   ]
  },
  {
   "cell_type": "code",
   "execution_count": 98,
   "metadata": {},
   "outputs": [
    {
     "name": "stdout",
     "output_type": "stream",
     "text": [
      "RMSE :  0.232547\n"
     ]
    }
   ],
   "source": [
    "# Parameter dictionary specifying base learner\n",
    "param =  {  \n",
    "    'eta': 0.1,  \n",
    "    'max_depth': 6,  \n",
    "    'min_child_weight': 1,  \n",
    "\n",
    "    'objective': 'reg:squarederror',\n",
    "    'nthread': 8,\n",
    "\n",
    "    'seed': 1,\n",
    "    'verbosity': 1,\n",
    "}\n",
    "  \n",
    "xgb_r = xgb.train(params = param, dtrain = dtrain, num_boost_round = 100)\n",
    "pred = xgb_r.predict(dval)\n",
    "  \n",
    "# RMSE Computation\n",
    "rmse = np.sqrt(mean_squared_error(y_val,pred))\n",
    "print(\"RMSE : % f\" %(rmse))"
   ]
  },
  {
   "cell_type": "code",
   "execution_count": 99,
   "metadata": {},
   "outputs": [
    {
     "name": "stdout",
     "output_type": "stream",
     "text": [
      "RMSE :  4.267588\n"
     ]
    }
   ],
   "source": [
    "# Parameter dictionary specifying base learner\n",
    "param =  {  \n",
    "    'eta': 0.01,  \n",
    "    'max_depth': 6,  \n",
    "    'min_child_weight': 1,  \n",
    "\n",
    "    'objective': 'reg:squarederror',\n",
    "    'nthread': 8,\n",
    "\n",
    "    'seed': 1,\n",
    "    'verbosity': 1,\n",
    "}\n",
    "  \n",
    "xgb_r = xgb.train(params = param, dtrain = dtrain, num_boost_round = 100)\n",
    "pred = xgb_r.predict(dval)\n",
    "  \n",
    "# RMSE Computation\n",
    "rmse = np.sqrt(mean_squared_error(y_val,pred))\n",
    "print(\"RMSE : % f\" %(rmse))"
   ]
  },
  {
   "cell_type": "markdown",
   "metadata": {},
   "source": [
    "* eta 0.3 RMSE = 0.228872\n",
    "* eta 0.1 RMSE = 0.232547\n",
    "* eta 0.01 RMSE = 4.267588\n",
    "* **ANSWER**: 0.3"
   ]
  },
  {
   "cell_type": "code",
   "execution_count": null,
   "metadata": {},
   "outputs": [],
   "source": []
  }
 ],
 "metadata": {
  "kernelspec": {
   "display_name": "Python 3.9.12 ('base')",
   "language": "python",
   "name": "python3"
  },
  "language_info": {
   "codemirror_mode": {
    "name": "ipython",
    "version": 3
   },
   "file_extension": ".py",
   "mimetype": "text/x-python",
   "name": "python",
   "nbconvert_exporter": "python",
   "pygments_lexer": "ipython3",
   "version": "3.9.12"
  },
  "orig_nbformat": 4,
  "vscode": {
   "interpreter": {
    "hash": "3ae49ffd6a2aa8255ac2ebd097a3417ae2a67903598af5822cb22af1e244f33d"
   }
  }
 },
 "nbformat": 4,
 "nbformat_minor": 2
}
